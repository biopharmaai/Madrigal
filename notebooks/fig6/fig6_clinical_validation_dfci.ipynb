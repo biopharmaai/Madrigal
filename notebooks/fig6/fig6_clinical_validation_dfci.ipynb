{
 "cells": [
  {
   "cell_type": "markdown",
   "metadata": {},
   "source": [
    "# DFCI analysis"
   ]
  },
  {
   "cell_type": "code",
   "execution_count": null,
   "metadata": {},
   "outputs": [
    {
     "name": "stdout",
     "output_type": "stream",
     "text": [
      "11601\n",
      "21842\n"
     ]
    }
   ],
   "source": [
    "import numpy as np\n",
    "import pandas as pd\n",
    "import os\n",
    "import torch\n",
    "from functools import partial\n",
    "\n",
    "import contextlib\n",
    "import io\n",
    "import warnings\n",
    "import json\n",
    "\n",
    "from madrigal.utils import BASE_DIR\n",
    "from madrigal.evaluate.predict import get_twosides_scores_wrapper\n",
    "\n",
    "from sklearn.decomposition import PCA\n",
    "from sklearn.preprocessing import OneHotEncoder, StandardScaler\n",
    "from sklearn.model_selection import StratifiedKFold\n",
    "from sklearn.metrics import roc_auc_score\n",
    "import statsmodels.api as sm\n",
    "from scipy.stats import kendalltau\n",
    "\n",
    "def sigmoid(x: np.ndarray):\n",
    "    return 1 / (1 + np.exp(-x))\n",
    "\n",
    "drug_metadata = pd.read_pickle(os.path.join(BASE_DIR, 'processed_data/views_features_new/combined_metadata_ddi.pkl'))\n",
    "drug_metadata['view_str'] = 1\n",
    "print(drug_metadata.shape[0])"
   ]
  },
  {
   "cell_type": "code",
   "execution_count": null,
   "metadata": {},
   "outputs": [],
   "source": [
    "twosides_ddi_classes = pd.read_pickle(\n",
    "    BASE_DIR + \"processed_data/polypharmacy_new/TWOSIDES/twosides_ddi_directed_final_label_map.pkl\"\n",
    ")\n",
    "twosides_ckpts = ['effortless-dust-7', 'fresh-flower-8', 'vague-violet-9']\n",
    "get_twosides_scores = partial(get_twosides_scores_wrapper, twosides_ddi_classes=twosides_ddi_classes, ckpt_list=twosides_ckpts)\n",
    "\n",
    "outcome_mapper = json.load(open(\"../outcome_mapper.json\", \"r\"))\n",
    "outcome_inds_mapper = {\n",
    "    ae_dfci: {\"twosides\": [twosides_ddi_classes.tolist().index(ae_db) for ae_db in dct[\"twosides\"]]} \n",
    "    for ae_dfci, dct in outcome_mapper.items()\n",
    "}"
   ]
  },
  {
   "cell_type": "markdown",
   "metadata": {},
   "source": [
    "## Data preparation\n",
    "\n",
    "Due to patient privacy concerns, patient-level data is not released."
   ]
  },
  {
   "cell_type": "code",
   "execution_count": 6,
   "metadata": {},
   "outputs": [
    {
     "data": {
      "text/plain": [
       "Index(['FIRST_DRUG_REGIMEN', 'ICD_BASED_TISSUE_TYPE', 'PALLIATIVE_INTENT',\n",
       "       'RACE', 'GENDER_NM', 'AGE_AT_TREAT', 'AE_neutropenia',\n",
       "       'AE_pancytopenia', 'AE_anemia', 'AE_thrombocytopenia',\n",
       "       'AE_polyneuropathy', 'AE_pulmonary_embolism/deep_vein_thrombosis',\n",
       "       'AE_acute_kidney_injury', 'AE_hyponatremia', 'AE_hypokalemia',\n",
       "       'AE_hyperkalemia', 'AE_hypomagnesemia', 'AE_hypocalcemia',\n",
       "       'AE_hypercalcemia'],\n",
       "      dtype='object')"
      ]
     },
     "execution_count": 6,
     "metadata": {},
     "output_type": "execute_result"
    }
   ],
   "source": [
    "dfci_patient_data = pd.read_csv(\"./dfci/patient_level_ae_dfci_relaxed.csv\", index_col=0)\n",
    "dfci_patient_data.columns"
   ]
  },
  {
   "cell_type": "code",
   "execution_count": null,
   "metadata": {},
   "outputs": [],
   "source": [
    "temp = dfci_patient_data[\"FIRST_DRUG_REGIMEN\"].value_counts()\n",
    "temp = temp[temp.index.str.contains(\"\\+\")]\n",
    "assert temp[temp.index.str.contains(\"SALINE\")].shape[0] == 0\n",
    "assert temp[(temp.index.str.contains(\"/\")) & (temp >= 10)].shape[0] == 0\n",
    "\n",
    "dfci_patient_data_filtered = dfci_patient_data[dfci_patient_data[\"FIRST_DRUG_REGIMEN\"].str.contains(\"\\+\")]\n",
    "dfci_patient_data_filtered[[\"drug_name_1\", \"drug_name_2\"]] = dfci_patient_data_filtered[\"FIRST_DRUG_REGIMEN\"].str.replace(\" HYDROCHLORIDE\", \"\").str.replace(\" MALEATE\", \"\").str.replace(\" MESYLATE\", \"\").str.replace(\" CITRATE\", \"\").str.replace(\" TRIOXIDE\", \"\").str.replace(\" TARTRATE\", \"\").str.replace(\" EMTANSINE\", \"\").str.replace(\"PEGYLATEDLIPOSOMALDOXORUBICIN\", \"DOXORUBICIN\").str.replace(\" TOSYLATE\", \"\").str.split(\"\\+\", expand=True)\n",
    "dfci_patient_data_filtered[[\"drug_name_1\", \"drug_name_2\"]] = dfci_patient_data_filtered[[\"drug_name_1\", \"drug_name_2\"]].apply(lambda row: [row[\"drug_name_1\"].strip().capitalize(), row[\"drug_name_2\"].strip().capitalize()], axis=1, result_type=\"expand\")\n",
    "dfci_patient_data_filtered[\"drug_name_1\"] = dfci_patient_data_filtered[\"drug_name_1\"].str.replace(\"Mesna\", \"Coenzyme M\").str.replace(\"Arsenic\", \"Arsenic trioxide\").str.replace(\"Mirdametinib\", \"PD-0325901\")\n",
    "dfci_patient_data_filtered[\"drug_name_2\"] = dfci_patient_data_filtered[\"drug_name_2\"].str.replace(\"Mesna\", \"Coenzyme M\").str.replace(\"Arsenic\", \"Arsenic trioxide\").str.replace(\"Mirdametinib\", \"PD-0325901\")\n",
    "dfci_patient_data_filtered = dfci_patient_data_filtered[~(dfci_patient_data_filtered[\"drug_name_1\"].str.endswith(\"mab\") | dfci_patient_data_filtered[\"drug_name_2\"].str.endswith(\"mab\") | dfci_patient_data_filtered[\"drug_name_1\"].str.endswith(\"vedotin\") | dfci_patient_data_filtered[\"drug_name_2\"].str.endswith(\"vedotin\") | dfci_patient_data_filtered[\"drug_name_1\"].isin({\"Sargramostim\", \"Tagraxofusp-erzs\", \"Wee1 inhibitor zn-c3\", \"Sacituzumab govitecan\", \"Azenosertib\"}) | dfci_patient_data_filtered[\"drug_name_2\"].isin({\"Sargramostim\", \"Tagraxofusp-erzs\", \"Wee1 inhibitor zn-c3\", \"Sacituzumab govitecan\", \"Azenosertib\"}))]  # remove monoclonal antibodies or drugs not in our database\n",
    "dfci_patient_data_filtered = dfci_patient_data_filtered[dfci_patient_data_filtered[\"FIRST_DRUG_REGIMEN\"].isin(dfci_patient_data_filtered[\"FIRST_DRUG_REGIMEN\"].value_counts()[dfci_patient_data_filtered[\"FIRST_DRUG_REGIMEN\"].value_counts() >= 10].index.values)]\n",
    "\n",
    "dfci_patient_data_filtered[[\"dbid_1\", \"dbid_2\"]] = dfci_patient_data_filtered[[\"drug_name_1\", \"drug_name_2\"]].apply(lambda row: [drug_metadata[drug_metadata[\"node_name\"] == row[\"drug_name_1\"]][\"node_id\"].values[0], drug_metadata[drug_metadata[\"node_name\"] == row[\"drug_name_2\"]][\"node_id\"].values[0]], axis=1, result_type=\"expand\")\n",
    "dfci_patient_data_filtered[[\"drug_index_1\", \"drug_index_2\"]] = dfci_patient_data_filtered[[\"dbid_1\", \"dbid_2\"]].apply(lambda row: [drug_metadata[drug_metadata[\"node_id\"] == row[\"dbid_1\"]].index.values[0], drug_metadata[drug_metadata[\"node_id\"] == row[\"dbid_2\"]].index.values[0]], axis=1, result_type=\"expand\")\n",
    "\n",
    "dfci_patient_data_filtered.to_pickle(\"./dfci/dfci_patient_data_filtered.pkl\")"
   ]
  },
  {
   "cell_type": "code",
   "execution_count": null,
   "metadata": {},
   "outputs": [],
   "source": [
    "aes = [col[len(\"AE_\"):] for col in dfci_patient_data_filtered.columns if col.startswith(\"AE_\")]\n",
    "# aes = [\"neutropenia\", \"pancytopenia\", \"anemia\", \"thrombocytopenia\", \"polyneuropathy\", \"pulmonary_embolism/deep_vein_thrombosis\", \"acute_kidney_injury\", \"hyponatremia\", \"hypokalemia\", \"hyperkalemia\", \"hypomagnesemia\", \"hypocalcemia\", \"hypercalcemia\"]\n",
    "\n",
    "# First generate scores for each drug for each outcome\n",
    "drug_names = np.unique(dfci_patient_data_filtered[[\"drug_name_1\", \"drug_name_2\"]].values.flatten())\n",
    "drug_inds = [drug_metadata[drug_metadata[\"node_name\"] == drug_name].index.values[0] for drug_name in drug_names]\n",
    "\n",
    "# Then generate scores for each drug pair for each outcome\n",
    "drug_1_ind_inds = [drug_names.tolist().index(name) for name in dfci_patient_data_filtered[\"drug_name_1\"].tolist()]\n",
    "drug_2_ind_inds = [drug_names.tolist().index(name) for name in dfci_patient_data_filtered[\"drug_name_2\"].tolist()]\n",
    "\n",
    "with warnings.catch_warnings():\n",
    "    warnings.simplefilter(\"ignore\")\n",
    "    with contextlib.redirect_stdout(io.StringIO()):\n",
    "        dfci_patient_drugs_twosides_scores, _ = get_twosides_scores(\n",
    "            outcome_twosides_inds=sum([[o for o in outcome_inds_mapper[ae][\"twosides\"] if o not in {twosides_ddi_classes.tolist().index(\"Adverse event\"), twosides_ddi_classes.tolist().index(\"Adverse drug reaction\")}] for ae in aes], start=[]), \n",
    "            drug_inds=drug_inds, \n",
    "            drug_group_str=\"dfci_patient\",\n",
    "        )\n",
    "        \n",
    "pd.DataFrame(dfci_patient_drugs_twosides_scores[700][:, drug_1_ind_inds, drug_2_ind_inds], index=sum([[o for o in outcome_mapper[ae][\"twosides\"] if o not in {\"Adverse event\", \"Adverse drug reaction\"}] for ae in aes], start=[]), columns=list(zip(np.array(drug_names)[drug_1_ind_inds], np.array(drug_names)[drug_2_ind_inds]))).to_pickle(BASE_DIR + \"temp/dfci_patient_drugs_twosides_scores.pkl\")"
   ]
  },
  {
   "cell_type": "markdown",
   "metadata": {},
   "source": [
    "## Compute correlation"
   ]
  },
  {
   "cell_type": "markdown",
   "metadata": {},
   "source": [
    "Map data"
   ]
  },
  {
   "cell_type": "code",
   "execution_count": null,
   "metadata": {},
   "outputs": [],
   "source": [
    "dfci_data = pd.read_pickle(\"./dfci/dfci_patient_data_filtered.pkl\")\n",
    "temp = dfci_data.groupby(\"FIRST_DRUG_REGIMEN\").agg(list)\n",
    "dfci_data = dfci_data[dfci_data[\"FIRST_DRUG_REGIMEN\"].isin(temp[temp[\"ICD_BASED_TISSUE_TYPE\"].apply(len) >= 20].index.values)]\n",
    "dfci_data = dfci_data.query(\"ICD_BASED_TISSUE_TYPE not in @heme_tissues\")\n",
    "dfci_data = dfci_data[[\"FIRST_DRUG_REGIMEN\", \"drug_name_1\", \"drug_name_2\", \"dbid_1\", \"dbid_2\", \"drug_index_1\", \"drug_index_2\"] + [col for col in dfci_data.columns if col.startswith(\"AE_\")]]\n",
    "dfci_data = dfci_data[~dfci_data[\"FIRST_DRUG_REGIMEN\"].str.contains(\"PEGYLATEDLIPOSOMALDOXORUBICIN\")]  # no match\n",
    "print(dfci_data.shape[0])\n",
    "\n",
    "dfci_data = dfci_data.groupby(\"FIRST_DRUG_REGIMEN\").agg(list)\n",
    "dfci_data[\"drug_name_1\"] = dfci_data[\"drug_name_1\"].apply(lambda x: x[0])\n",
    "dfci_data[\"drug_name_2\"] = dfci_data[\"drug_name_2\"].apply(lambda x: x[0])\n",
    "dfci_data[\"dbid_1\"] = dfci_data[\"dbid_1\"].apply(lambda x: x[0])\n",
    "dfci_data[\"dbid_2\"] = dfci_data[\"dbid_2\"].apply(lambda x: x[0])\n",
    "dfci_data[\"drug_index_1\"] = dfci_data[\"drug_index_1\"].apply(lambda x: x[0])\n",
    "dfci_data[\"drug_index_2\"] = dfci_data[\"drug_index_2\"].apply(lambda x: x[0])\n",
    "dfci_data[\"num_all_patients\"] = dfci_data[\"AE_neutropenia\"].apply(lambda x: len(x))\n",
    "for col in dfci_data.columns:\n",
    "    if col.startswith(\"AE_\"):\n",
    "        ae = col[3:]\n",
    "        dfci_data[f\"num_{ae}_cases\"] = dfci_data[col].apply(lambda lst: sum(lst))\n",
    "\n",
    "dfci_data = pd.concat([\n",
    "    dfci_data, \n",
    "    dfci_data.rename(\n",
    "        columns={\n",
    "            \"drug_name_2\": \"drug_name_1\", \n",
    "            \"drug_name_1\": \"drug_name_2\", \n",
    "            \"dbid_2\": \"dbid_1\", \n",
    "            \"dbid_1\": \"dbid_2\", \n",
    "            \"drug_index_2\": \"drug_index_1\", \n",
    "            \"drug_index_1\": \"drug_index_2\"\n",
    "        }\n",
    "    )\n",
    "], axis=0)\n",
    "dfci_data = dfci_data.query(\"drug_index_1 > drug_index_2\").drop(columns=[col for col in dfci_data.columns if col.startswith(\"AE_\")])\n",
    "dfci_data = dfci_data.drop_duplicates(subset=[\"drug_index_1\", \"drug_index_2\", \"num_all_patients\", \"num_neutropenia_cases\"])"
   ]
  },
  {
   "cell_type": "code",
   "execution_count": 10,
   "metadata": {},
   "outputs": [],
   "source": [
    "drug_names = np.unique(dfci_data[[\"drug_name_1\", \"drug_name_2\"]].values.flatten())\n",
    "drug_inds = [drug_metadata[drug_metadata[\"node_name\"] == drug_name].index.values[0] for drug_name in drug_names]\n",
    "drug_1_ind_inds = [drug_names.tolist().index(name) for name in dfci_data[\"drug_name_1\"].tolist()]\n",
    "drug_2_ind_inds = [drug_names.tolist().index(name) for name in dfci_data[\"drug_name_2\"].tolist()]"
   ]
  },
  {
   "cell_type": "markdown",
   "metadata": {},
   "source": [
    "Set a detection threshold based on exact binomial test"
   ]
  },
  {
   "cell_type": "code",
   "execution_count": 11,
   "metadata": {},
   "outputs": [
    {
     "data": {
      "text/plain": [
       "32"
      ]
     },
     "execution_count": 11,
     "metadata": {},
     "output_type": "execute_result"
    }
   ],
   "source": [
    "import math\n",
    "def n_detect(p=0.05, power=0.95):\n",
    "    return math.ceil(math.log(1-power) / math.log(1-p))\n",
    "n_detect(0.05, 0.8)"
   ]
  },
  {
   "cell_type": "code",
   "execution_count": 12,
   "metadata": {},
   "outputs": [],
   "source": [
    "detect_thres = 32"
   ]
  },
  {
   "cell_type": "code",
   "execution_count": null,
   "metadata": {},
   "outputs": [],
   "source": [
    "heme_drugs = {\"Acalabrutinib\", \"Arsenic trioxide\", \"Azacitidine\", \"Bortezomib\", \"Busulfan\", \"Cytarabine\", \"Dasatinib\", \"Daunorubicin\", \"Decitabine\", \"Duvelisib\", \"Fludarabine\", \"Gilteritinib\", \"Ixazomib\", \"Lenalidomide\", \"Midostaurin\", \"Romidepsin\", \"Ruxolitinib\", \"Tretinoin\", \"Umbralisib\", \"Venetoclax\", \"Vincristine\", \"Imatinib\", \"Hydroxyurea\", \"Cyclophosphamide\", \"Methotrexate\"}\n",
    "heme_tissues = {\"Myeloid\", \"Lymphoid\", \"Myeloma\", \"Leukemia\", \"Hematologic Other\"}"
   ]
  },
  {
   "cell_type": "markdown",
   "metadata": {},
   "source": [
    "Calculate scores"
   ]
  },
  {
   "cell_type": "code",
   "execution_count": 13,
   "metadata": {},
   "outputs": [],
   "source": [
    "for ae in aes:\n",
    "    dfci_data[f\"proportion_{ae}\"] = dfci_data[f\"num_{ae}_cases\"] / dfci_data[\"num_all_patients\"]\n",
    "    dfci_data[[\"drug_name_1\", \"drug_name_2\", \"drug_index_1\", \"drug_index_2\", f\"proportion_{ae}\"]].sort_values(f\"proportion_{ae}\", ascending=False)\n",
    "\n",
    "    with warnings.catch_warnings():\n",
    "        warnings.simplefilter(\"ignore\")\n",
    "        with contextlib.redirect_stdout(io.StringIO()):\n",
    "            dfci_test_twosides_scores, _ = get_twosides_scores(\n",
    "                outcome_twosides_inds=sum([outcome_inds_mapper[ae][\"twosides\"] for ae in aes], start=[]), \n",
    "                drug_inds=drug_inds, \n",
    "                drug_group_str=\"dfci_test\",\n",
    "            )\n",
    "            \n",
    "    torch.save(dfci_test_twosides_scores, BASE_DIR + f\"temp/final_drug_regimen_ae_summary_dfci_relaxed_v2_{ae.replace('/', '_')}_scores.pt\")"
   ]
  },
  {
   "cell_type": "markdown",
   "metadata": {},
   "source": [
    "### Per AE correlation"
   ]
  },
  {
   "cell_type": "markdown",
   "metadata": {},
   "source": [
    "#### neutropenia"
   ]
  },
  {
   "cell_type": "code",
   "execution_count": null,
   "metadata": {},
   "outputs": [
    {
     "name": "stdout",
     "output_type": "stream",
     "text": [
      "(16, 34)\n",
      "SignificanceResult(statistic=0.6614950926316517, pvalue=0.0004995129391708896)\n"
     ]
    }
   ],
   "source": [
    "ae = \"neutropenia\"\n",
    "dfci_data[f\"proportion_{ae}\"] = dfci_data[f\"num_{ae}_cases\"] / dfci_data[\"num_all_patients\"]\n",
    "dfci_test_twosides_scores = torch.load(BASE_DIR + f\"temp/final_drug_regimen_ae_summary_dfci_relaxed_v2_{ae}_scores.pt\")\n",
    "\n",
    "dfci_data.loc[:, f\"pred_{ae}_twosides\"] = pd.DataFrame(dfci_test_twosides_scores[700][:, drug_1_ind_inds, drug_2_ind_inds], index=sum([outcome_mapper[ae][\"twosides\"] for ae in aes], start=[]), columns=list(zip(np.array(drug_names)[drug_1_ind_inds], np.array(drug_names)[drug_2_ind_inds]))).drop_duplicates().loc[\"Neutropenia\"].values\n",
    "\n",
    "plot_data = dfci_data.query(\"drug_name_1 not in @heme_drugs and drug_name_2 not in @heme_drugs and num_all_patients >= @detect_thres\")\n",
    "print(plot_data.shape)\n",
    "print(kendalltau(plot_data[f\"proportion_{ae}\"], plot_data[f\"pred_{ae}_twosides\"]))"
   ]
  },
  {
   "cell_type": "markdown",
   "metadata": {},
   "source": [
    "#### pancytopenia"
   ]
  },
  {
   "cell_type": "code",
   "execution_count": null,
   "metadata": {},
   "outputs": [
    {
     "name": "stdout",
     "output_type": "stream",
     "text": [
      "(16, 35)\n",
      "SignificanceResult(statistic=0.41286141192238524, pvalue=0.03369680195497631)\n"
     ]
    }
   ],
   "source": [
    "ae = \"pancytopenia\"\n",
    "dfci_data[f\"proportion_{ae}\"] = dfci_data[f\"num_{ae}_cases\"] / dfci_data[\"num_all_patients\"]\n",
    "dfci_test_twosides_scores = torch.load(BASE_DIR + f\"temp/final_drug_regimen_ae_summary_dfci_relaxed_v2_{ae}_scores.pt\")\n",
    "\n",
    "dfci_data.loc[:, f\"pred_{ae}_twosides\"] = pd.DataFrame(dfci_test_twosides_scores[700][:, drug_1_ind_inds, drug_2_ind_inds], index=sum([outcome_mapper[ae][\"twosides\"] for ae in aes], start=[]), columns=list(zip(np.array(drug_names)[drug_1_ind_inds], np.array(drug_names)[drug_2_ind_inds]))).drop_duplicates().loc[\"Pancytopenia\"].values\n",
    "\n",
    "plot_data = dfci_data.query(\"drug_name_1 not in @heme_drugs and drug_name_2 not in @heme_drugs and num_all_patients >= @detect_thres\")\n",
    "print(plot_data.shape)\n",
    "print(kendalltau(plot_data[f\"proportion_{ae}\"], plot_data[f\"pred_{ae}_twosides\"]))"
   ]
  },
  {
   "cell_type": "markdown",
   "metadata": {},
   "source": [
    "#### anemia "
   ]
  },
  {
   "cell_type": "code",
   "execution_count": null,
   "metadata": {},
   "outputs": [
    {
     "name": "stdout",
     "output_type": "stream",
     "text": [
      "(16, 36)\n",
      "SignificanceResult(statistic=0.39330888211518983, pvalue=0.03415760720580079)\n"
     ]
    }
   ],
   "source": [
    "ae = \"anemia\"\n",
    "dfci_data[f\"proportion_{ae}\"] = dfci_data[f\"num_{ae}_cases\"] / dfci_data[\"num_all_patients\"]\n",
    "dfci_test_twosides_scores = torch.load(BASE_DIR + f\"temp/final_drug_regimen_ae_summary_dfci_relaxed_v2_{ae}_scores.pt\")\n",
    "\n",
    "dfci_data.loc[:, f\"pred_{ae}_twosides\"] = pd.DataFrame(dfci_test_twosides_scores[700][:, drug_1_ind_inds, drug_2_ind_inds], index=sum([outcome_mapper[ae][\"twosides\"] for ae in aes], start=[]), columns=list(zip(np.array(drug_names)[drug_1_ind_inds], np.array(drug_names)[drug_2_ind_inds]))).drop_duplicates().loc[\"Anaemia\"].values\n",
    "\n",
    "plot_data = dfci_data.query(\"drug_name_1 not in @heme_drugs and drug_name_2 not in @heme_drugs and num_all_patients >= @detect_thres\")\n",
    "print(kendalltau(plot_data[f\"proportion_{ae}\"], plot_data[f\"pred_{ae}_twosides\"]))"
   ]
  },
  {
   "cell_type": "markdown",
   "metadata": {},
   "source": [
    "#### thrombocytopenia"
   ]
  },
  {
   "cell_type": "code",
   "execution_count": null,
   "metadata": {},
   "outputs": [
    {
     "name": "stdout",
     "output_type": "stream",
     "text": [
      "(16, 37)\n",
      "SignificanceResult(statistic=0.5222329678670935, pvalue=0.005992862170204803)\n"
     ]
    }
   ],
   "source": [
    "ae = \"thrombocytopenia\"\n",
    "dfci_data[f\"proportion_{ae}\"] = dfci_data[f\"num_{ae}_cases\"] / dfci_data[\"num_all_patients\"]\n",
    "dfci_test_twosides_scores = torch.load(BASE_DIR + f\"temp/final_drug_regimen_ae_summary_dfci_relaxed_v2_{ae}_scores.pt\")\n",
    "\n",
    "dfci_data.loc[:, f\"pred_{ae}_twosides\"] = pd.DataFrame(dfci_test_twosides_scores[700][:, drug_1_ind_inds, drug_2_ind_inds], index=sum([outcome_mapper[ae][\"twosides\"] for ae in aes], start=[]), columns=list(zip(np.array(drug_names)[drug_1_ind_inds], np.array(drug_names)[drug_2_ind_inds]))).drop_duplicates().loc[\"Thrombocytopenia\"].values\n",
    "\n",
    "plot_data = dfci_data.query(\"drug_name_1 not in @heme_drugs and drug_name_2 not in @heme_drugs and num_all_patients >= @detect_thres\")\n",
    "print(kendalltau(plot_data[f\"proportion_{ae}\"], plot_data[f\"pred_{ae}_twosides\"]))"
   ]
  },
  {
   "cell_type": "markdown",
   "metadata": {},
   "source": [
    "#### polyneuropathy"
   ]
  },
  {
   "cell_type": "code",
   "execution_count": null,
   "metadata": {},
   "outputs": [
    {
     "name": "stdout",
     "output_type": "stream",
     "text": [
      "SignificanceResult(statistic=0.4426266681379905, pvalue=0.023342202012890816)\n"
     ]
    }
   ],
   "source": [
    "ae = \"polyneuropathy\"\n",
    "dfci_data[f\"proportion_{ae}\"] = dfci_data[f\"num_{ae}_cases\"] / dfci_data[\"num_all_patients\"]\n",
    "dfci_test_twosides_scores = torch.load(BASE_DIR + f\"temp/final_drug_regimen_ae_summary_dfci_relaxed_v2_{ae}_scores.pt\")\n",
    "\n",
    "dfci_data.loc[:, f\"pred_{ae}_twosides\"] = pd.DataFrame(dfci_test_twosides_scores[700][:, drug_1_ind_inds, drug_2_ind_inds], index=sum([outcome_mapper[ae][\"twosides\"] for ae in aes], start=[]), columns=list(zip(np.array(drug_names)[drug_1_ind_inds], np.array(drug_names)[drug_2_ind_inds]))).drop_duplicates().loc[\"Neuropathy peripheral\"].values\n",
    "\n",
    "plot_data = dfci_data.query(\"drug_name_1 not in @heme_drugs and drug_name_2 not in @heme_drugs and num_all_patients >= @detect_thres\")\n",
    "print(kendalltau(plot_data[f\"proportion_{ae}\"], plot_data[f\"pred_{ae}_twosides\"]))"
   ]
  },
  {
   "cell_type": "markdown",
   "metadata": {},
   "source": [
    "#### pulmonary_embolism/deep_vein_thrombosis"
   ]
  },
  {
   "cell_type": "code",
   "execution_count": null,
   "metadata": {},
   "outputs": [
    {
     "name": "stdout",
     "output_type": "stream",
     "text": [
      "(16, 39)\n",
      "SignificanceResult(statistic=0.6102571532587294, pvalue=0.001125715058012237)\n"
     ]
    }
   ],
   "source": [
    "ae = \"pulmonary_embolism/deep_vein_thrombosis\"\n",
    "dfci_data[f\"proportion_{ae}\"] = dfci_data[f\"num_{ae}_cases\"] / dfci_data[\"num_all_patients\"]\n",
    "dfci_test_twosides_scores = torch.load(BASE_DIR + f\"temp/final_drug_regimen_ae_summary_dfci_relaxed_v2_{ae.replace('/', '_')}_scores.pt\")\n",
    "\n",
    "dfci_data.loc[:, f\"pred_{ae}_twosides\"] = pd.DataFrame(dfci_test_twosides_scores[700][:, drug_1_ind_inds, drug_2_ind_inds], index=sum([outcome_mapper[ae][\"twosides\"] for ae in aes], start=[]), columns=list(zip(np.array(drug_names)[drug_1_ind_inds], np.array(drug_names)[drug_2_ind_inds]))).drop_duplicates().loc[\"Deep vein thrombosis\"].values\n",
    "\n",
    "plot_data = dfci_data.query(\"drug_name_1 not in @heme_drugs and drug_name_2 not in @heme_drugs and num_all_patients >= @detect_thres\")\n",
    "print(kendalltau(plot_data[f\"proportion_{ae}\"], plot_data[f\"pred_{ae}_twosides\"]))"
   ]
  },
  {
   "cell_type": "markdown",
   "metadata": {},
   "source": [
    "#### acute_kidney_injury"
   ]
  },
  {
   "cell_type": "code",
   "execution_count": null,
   "metadata": {},
   "outputs": [
    {
     "name": "stdout",
     "output_type": "stream",
     "text": [
      "(16, 40)\n",
      "SignificanceResult(statistic=0.3460192837535861, pvalue=0.06390794473460158)\n"
     ]
    }
   ],
   "source": [
    "ae = \"acute_kidney_injury\"\n",
    "dfci_data[f\"proportion_{ae}\"] = dfci_data[f\"num_{ae}_cases\"] / dfci_data[\"num_all_patients\"]\n",
    "dfci_test_twosides_scores = torch.load(BASE_DIR + f\"temp/final_drug_regimen_ae_summary_dfci_relaxed_v2_{ae}_scores.pt\")\n",
    "dfci_data.loc[:, f\"pred_{ae}_twosides\"] = pd.DataFrame(dfci_test_twosides_scores[700][:, drug_1_ind_inds, drug_2_ind_inds], index=sum([outcome_mapper[ae][\"twosides\"] for ae in aes], start=[]), columns=list(zip(np.array(drug_names)[drug_1_ind_inds], np.array(drug_names)[drug_2_ind_inds]))).drop_duplicates().loc[\"Nephropathy toxic\"].values\n",
    "\n",
    "plot_data = dfci_data.query(\"drug_name_1 not in @heme_drugs and drug_name_2 not in @heme_drugs and num_all_patients >= @detect_thres\")\n",
    "print(kendalltau(plot_data[f\"proportion_{ae}\"], plot_data[f\"pred_{ae}_twosides\"]))"
   ]
  },
  {
   "cell_type": "markdown",
   "metadata": {},
   "source": [
    "#### hyponatremia"
   ]
  },
  {
   "cell_type": "code",
   "execution_count": null,
   "metadata": {},
   "outputs": [
    {
     "name": "stdout",
     "output_type": "stream",
     "text": [
      "SignificanceResult(statistic=0.6839855680567694, pvalue=0.0002792104157155115)\n"
     ]
    }
   ],
   "source": [
    "ae = \"hyponatremia\"\n",
    "dfci_data[f\"proportion_{ae}\"] = dfci_data[f\"num_{ae}_cases\"] / dfci_data[\"num_all_patients\"]\n",
    "dfci_test_twosides_scores = torch.load(BASE_DIR + f\"temp/final_drug_regimen_ae_summary_dfci_relaxed_v2_{ae}_scores.pt\")\n",
    "\n",
    "dfci_data.loc[:, f\"pred_{ae}_twosides\"] = pd.DataFrame(dfci_test_twosides_scores[700][:, drug_1_ind_inds, drug_2_ind_inds], index=sum([outcome_mapper[ae][\"twosides\"] for ae in aes], start=[]), columns=list(zip(np.array(drug_names)[drug_1_ind_inds], np.array(drug_names)[drug_2_ind_inds]))).drop_duplicates().loc[\"Hyponatraemia\"].values\n",
    "\n",
    "plot_data = dfci_data.query(\"drug_name_1 not in @heme_drugs and drug_name_2 not in @heme_drugs and num_all_patients >= @detect_thres\")\n",
    "print(kendalltau(plot_data[f\"proportion_{ae}\"], plot_data[f\"pred_{ae}_twosides\"]))"
   ]
  },
  {
   "cell_type": "markdown",
   "metadata": {},
   "source": [
    "#### hypokalemia"
   ]
  },
  {
   "cell_type": "code",
   "execution_count": null,
   "metadata": {},
   "outputs": [
    {
     "name": "stdout",
     "output_type": "stream",
     "text": [
      "(16, 42)\n",
      "SignificanceResult(statistic=0.3460192837535861, pvalue=0.06390794473460158)\n"
     ]
    }
   ],
   "source": [
    "ae = \"hypokalemia\"\n",
    "dfci_data[f\"proportion_{ae}\"] = dfci_data[f\"num_{ae}_cases\"] / dfci_data[\"num_all_patients\"]\n",
    "dfci_test_twosides_scores = torch.load(BASE_DIR + f\"temp/final_drug_regimen_ae_summary_dfci_relaxed_v2_{ae}_scores.pt\")\n",
    "\n",
    "dfci_data.loc[:, f\"pred_{ae}_twosides\"] = pd.DataFrame(dfci_test_twosides_scores[700][:, drug_1_ind_inds, drug_2_ind_inds], index=sum([outcome_mapper[ae][\"twosides\"] for ae in aes], start=[]), columns=list(zip(np.array(drug_names)[drug_1_ind_inds], np.array(drug_names)[drug_2_ind_inds]))).drop_duplicates().loc[\"Hypokalaemia\"].values\n",
    "\n",
    "plot_data = dfci_data.query(\"drug_name_1 not in @heme_drugs and drug_name_2 not in @heme_drugs and num_all_patients >= @detect_thres\")\n",
    "print(kendalltau(plot_data[f\"proportion_{ae}\"], plot_data[f\"pred_{ae}_twosides\"]))"
   ]
  },
  {
   "cell_type": "markdown",
   "metadata": {},
   "source": [
    "#### hyperkalemia"
   ]
  },
  {
   "cell_type": "code",
   "execution_count": null,
   "metadata": {},
   "outputs": [
    {
     "name": "stdout",
     "output_type": "stream",
     "text": [
      "SignificanceResult(statistic=0.5378528742004771, pvalue=0.007028071105256244)\n"
     ]
    }
   ],
   "source": [
    "ae = \"hyperkalemia\"\n",
    "dfci_data[f\"proportion_{ae}\"] = dfci_data[f\"num_{ae}_cases\"] / dfci_data[\"num_all_patients\"]\n",
    "dfci_test_twosides_scores = torch.load(BASE_DIR + f\"temp/final_drug_regimen_ae_summary_dfci_relaxed_v2_{ae}_scores.pt\")\n",
    "\n",
    "dfci_data.loc[:, f\"pred_{ae}_twosides\"] = pd.DataFrame(dfci_test_twosides_scores[700][:, drug_1_ind_inds, drug_2_ind_inds], index=sum([outcome_mapper[ae][\"twosides\"] for ae in aes], start=[]), columns=list(zip(np.array(drug_names)[drug_1_ind_inds], np.array(drug_names)[drug_2_ind_inds]))).drop_duplicates().loc[\"Hyperkalaemia\"].values\n",
    "\n",
    "plot_data = dfci_data.query(\"drug_name_1 not in @heme_drugs and drug_name_2 not in @heme_drugs and num_all_patients >= @detect_thres\")\n",
    "print(kendalltau(plot_data[f\"proportion_{ae}\"], plot_data[f\"pred_{ae}_twosides\"]))\n"
   ]
  },
  {
   "cell_type": "markdown",
   "metadata": {},
   "source": [
    "#### hypomagnesemia"
   ]
  },
  {
   "cell_type": "code",
   "execution_count": null,
   "metadata": {},
   "outputs": [
    {
     "name": "stdout",
     "output_type": "stream",
     "text": [
      "SignificanceResult(statistic=0.5968834402710812, pvalue=0.0018896405048027735)\n"
     ]
    }
   ],
   "source": [
    "ae = \"hypomagnesemia\"\n",
    "dfci_data[f\"proportion_{ae}\"] = dfci_data[f\"num_{ae}_cases\"] / dfci_data[\"num_all_patients\"]\n",
    "dfci_test_twosides_scores = torch.load(BASE_DIR + f\"temp/final_drug_regimen_ae_summary_dfci_relaxed_v2_{ae}_scores.pt\")\n",
    "dfci_data.loc[:, f\"pred_{ae}_twosides\"] = pd.DataFrame(dfci_test_twosides_scores[700][:, drug_1_ind_inds, drug_2_ind_inds], index=sum([outcome_mapper[ae][\"twosides\"] for ae in aes], start=[]), columns=list(zip(np.array(drug_names)[drug_1_ind_inds], np.array(drug_names)[drug_2_ind_inds]))).drop_duplicates().loc[\"Hypomagnesaemia\"].values\n",
    "\n",
    "plot_data = dfci_data.query(\"drug_name_1 not in @heme_drugs and drug_name_2 not in @heme_drugs and num_all_patients >= @detect_thres\")\n",
    "print(kendalltau(plot_data[f\"proportion_{ae}\"], plot_data[f\"pred_{ae}_twosides\"]))"
   ]
  },
  {
   "cell_type": "markdown",
   "metadata": {},
   "source": [
    "#### hypocalcemia"
   ]
  },
  {
   "cell_type": "code",
   "execution_count": null,
   "metadata": {},
   "outputs": [
    {
     "name": "stdout",
     "output_type": "stream",
     "text": [
      "SignificanceResult(statistic=0.2604237178532571, pvalue=0.20432776343895498)\n"
     ]
    }
   ],
   "source": [
    "ae = \"hypocalcemia\"\n",
    "dfci_data[f\"proportion_{ae}\"] = dfci_data[f\"num_{ae}_cases\"] / dfci_data[\"num_all_patients\"]\n",
    "dfci_test_twosides_scores = torch.load(BASE_DIR + f\"temp/final_drug_regimen_ae_summary_dfci_relaxed_v2_{ae}_scores.pt\")\n",
    "dfci_data.loc[:, f\"pred_{ae}_twosides\"] = pd.DataFrame(dfci_test_twosides_scores[700][:, drug_1_ind_inds, drug_2_ind_inds], index=sum([outcome_mapper[ae][\"twosides\"] for ae in aes], start=[]), columns=list(zip(np.array(drug_names)[drug_1_ind_inds], np.array(drug_names)[drug_2_ind_inds]))).drop_duplicates().loc[\"Hypocalcaemia\"].values\n",
    "\n",
    "plot_data = dfci_data.query(\"drug_name_1 not in @heme_drugs and drug_name_2 not in @heme_drugs and num_all_patients >= @detect_thres\")\n",
    "print(kendalltau(plot_data[f\"proportion_{ae}\"], plot_data[f\"pred_{ae}_twosides\"]))"
   ]
  },
  {
   "cell_type": "markdown",
   "metadata": {},
   "source": [
    "#### hypercalcemia"
   ]
  },
  {
   "cell_type": "code",
   "execution_count": null,
   "metadata": {},
   "outputs": [
    {
     "name": "stdout",
     "output_type": "stream",
     "text": [
      "SignificanceResult(statistic=0.2905817458203733, pvalue=0.14722696631062424)\n"
     ]
    }
   ],
   "source": [
    "ae = \"hypercalcemia\"\n",
    "dfci_data[f\"proportion_{ae}\"] = dfci_data[f\"num_{ae}_cases\"] / dfci_data[\"num_all_patients\"]\n",
    "dfci_test_twosides_scores = torch.load(BASE_DIR + f\"temp/final_drug_regimen_ae_summary_dfci_relaxed_v2_{ae}_scores.pt\")\n",
    "\n",
    "dfci_data.loc[:, f\"pred_{ae}_twosides\"] = pd.DataFrame(dfci_test_twosides_scores[700][:, drug_1_ind_inds, drug_2_ind_inds], index=sum([outcome_mapper[ae][\"twosides\"] for ae in aes], start=[]), columns=list(zip(np.array(drug_names)[drug_1_ind_inds], np.array(drug_names)[drug_2_ind_inds]))).drop_duplicates().loc[\"Hypercalcaemia\"].values\n",
    "\n",
    "plot_data = dfci_data.query(\"drug_name_1 not in @heme_drugs and drug_name_2 not in @heme_drugs and num_all_patients >= @detect_thres\")\n",
    "print(kendalltau(plot_data[f\"proportion_{ae}\"], plot_data[f\"pred_{ae}_twosides\"]))"
   ]
  },
  {
   "cell_type": "markdown",
   "metadata": {},
   "source": [
    "### Adjusting for patient characteristics"
   ]
  },
  {
   "cell_type": "code",
   "execution_count": null,
   "metadata": {},
   "outputs": [],
   "source": [
    "include_tissue_type = False  # Because of high collinearity between tumor type and drug combo\n",
    "top_tissue_only = 10\n",
    "standardize_scores = True "
   ]
  },
  {
   "cell_type": "code",
   "execution_count": null,
   "metadata": {},
   "outputs": [],
   "source": [
    "dfci_patient_data_filtered = pd.read_pickle(\"./dfci/dfci_patient_data_filtered.pkl\")\n",
    "dfci_patient_drugs_twosides_scores = pd.read_pickle(BASE_DIR + \"temp/dfci_patient_drugs_twosides_scores.pkl\")\n",
    "\n",
    "assert not dfci_patient_data_filtered.index.has_duplicates\n",
    "dfci_patient_data_ml = dfci_patient_data_filtered.query(\"(drug_name_1 not in @heme_drugs and drug_name_2 not in @heme_drugs) and ICD_BASED_TISSUE_TYPE not in @heme_tissues\")\n",
    "dfci_patient_data_ml = dfci_patient_data_ml[~dfci_patient_data_ml[\"FIRST_DRUG_REGIMEN\"].str.contains(\"PEGYLATEDLIPOSOMALDOXORUBICIN\")]  # No match\n",
    "dfci_patient_data_ml = dfci_patient_data_ml[dfci_patient_data_ml[\"FIRST_DRUG_REGIMEN\"].isin(dfci_patient_data_ml[\"FIRST_DRUG_REGIMEN\"].value_counts()[dfci_patient_data_ml[\"FIRST_DRUG_REGIMEN\"].value_counts() >= detect_thres].index.values)]\n",
    "dfci_patient_data_ml.loc[dfci_patient_data_ml[\"RACE\"].isin(dfci_patient_data_ml[\"RACE\"].value_counts()[dfci_patient_data_ml[\"RACE\"].value_counts() < 100].index.values), \"RACE\"] = \"OTHER\"\n",
    "\n",
    "# Keep only the 10 most frequent tissue types; everything else --> 'OTHER'\n",
    "top_tissues = dfci_patient_data_ml[\"ICD_BASED_TISSUE_TYPE\"].value_counts().nlargest(top_tissue_only).index\n",
    "# Exclude UNSPECIFIED\n",
    "if \"UNSPECIFIED\" in top_tissues:\n",
    "    top_tissues = top_tissues.drop(\"UNSPECIFIED\")\n",
    "dfci_patient_data_ml[\"ICD_BASED_TISSUE_TYPE_REDUCED\"] = np.where(\n",
    "    dfci_patient_data_ml[\"ICD_BASED_TISSUE_TYPE\"].isin(top_tissues),\n",
    "    dfci_patient_data_ml[\"ICD_BASED_TISSUE_TYPE\"],\n",
    "    \"Other\",\n",
    ")"
   ]
  },
  {
   "cell_type": "code",
   "execution_count": 76,
   "metadata": {},
   "outputs": [],
   "source": [
    "if include_tissue_type:\n",
    "    ohe = OneHotEncoder(sparse_output=False, handle_unknown=\"ignore\", drop=[\"Other\", \"OTHER\", \"MALE\"])\n",
    "    dfci_patient_data_ml_patient_X = pd.DataFrame(ohe.fit_transform(dfci_patient_data_ml[[\"ICD_BASED_TISSUE_TYPE_REDUCED\", \"RACE\", \"GENDER_NM\"]]), columns=ohe.get_feature_names_out(), index=dfci_patient_data_ml.index)\n",
    "else:\n",
    "    ohe = OneHotEncoder(sparse_output=False, handle_unknown=\"ignore\", drop=[\"OTHER\", \"MALE\"])\n",
    "    dfci_patient_data_ml_patient_X = pd.DataFrame(ohe.fit_transform(dfci_patient_data_ml[[\"RACE\", \"GENDER_NM\"]]), columns=ohe.get_feature_names_out(), index=dfci_patient_data_ml.index)\n",
    "        \n",
    "dfci_patient_data_ml_patient_X = pd.concat([\n",
    "    dfci_patient_data_ml[[\"PALLIATIVE_INTENT\", \"AGE_AT_TREAT\"]], \n",
    "    dfci_patient_data_ml_patient_X, \n",
    "], axis=1)"
   ]
  },
  {
   "cell_type": "code",
   "execution_count": 77,
   "metadata": {},
   "outputs": [],
   "source": [
    "aes_score_inds = {\n",
    "    \"neutropenia\": 0, \n",
    "    \"pancytopenia\": 0, \n",
    "    \"anemia\": 0,\n",
    "    \"thrombocytopenia\": 0, \n",
    "    \"polyneuropathy\": 0,\n",
    "    \"pulmonary_embolism/deep_vein_thrombosis\": 1, \n",
    "    \"acute_kidney_injury\": 4, \n",
    "    \"hyponatremia\": 0, \n",
    "    \"hypokalemia\": 0, \n",
    "    \"hyperkalemia\": 0, \n",
    "    \"hypomagnesemia\": 0, \n",
    "    \"hypocalcemia\": 0, \n",
    "    \"hypercalcemia\": 0, \n",
    "}"
   ]
  },
  {
   "cell_type": "code",
   "execution_count": null,
   "metadata": {},
   "outputs": [
    {
     "name": "stdout",
     "output_type": "stream",
     "text": [
      "\n",
      "neutropenia\n",
      "Optimization terminated successfully    (Exit mode 0)\n",
      "            Current function value: 0.1804871833774824\n",
      "            Iterations: 152\n",
      "            Function evaluations: 152\n",
      "            Gradient evaluations: 152\n",
      "\n",
      "pancytopenia\n",
      "Optimization terminated successfully    (Exit mode 0)\n",
      "            Current function value: 0.09009141510045467\n",
      "            Iterations: 82\n",
      "            Function evaluations: 82\n",
      "            Gradient evaluations: 82\n",
      "\n",
      "anemia\n",
      "Optimization terminated successfully    (Exit mode 0)\n",
      "            Current function value: 0.2118302964923294\n",
      "            Iterations: 81\n",
      "            Function evaluations: 81\n",
      "            Gradient evaluations: 81\n",
      "\n",
      "thrombocytopenia\n",
      "Optimization terminated successfully    (Exit mode 0)\n",
      "            Current function value: 0.12283133429200342\n",
      "            Iterations: 164\n",
      "            Function evaluations: 164\n",
      "            Gradient evaluations: 164\n",
      "\n",
      "polyneuropathy\n",
      "Optimization terminated successfully    (Exit mode 0)\n",
      "            Current function value: 0.09536695898538855\n",
      "            Iterations: 135\n",
      "            Function evaluations: 135\n",
      "            Gradient evaluations: 135\n",
      "\n",
      "pulmonary_embolism/deep_vein_thrombosis\n",
      "Optimization terminated successfully    (Exit mode 0)\n",
      "            Current function value: 0.13272486296105251\n",
      "            Iterations: 117\n",
      "            Function evaluations: 117\n",
      "            Gradient evaluations: 117\n",
      "\n",
      "acute_kidney_injury\n",
      "Optimization terminated successfully    (Exit mode 0)\n",
      "            Current function value: 0.09054302742813718\n",
      "            Iterations: 76\n",
      "            Function evaluations: 76\n",
      "            Gradient evaluations: 76\n",
      "\n",
      "hyponatremia\n",
      "Optimization terminated successfully    (Exit mode 0)\n",
      "            Current function value: 0.11615793965626131\n",
      "            Iterations: 163\n",
      "            Function evaluations: 164\n",
      "            Gradient evaluations: 163\n",
      "\n",
      "hypokalemia\n",
      "Optimization terminated successfully    (Exit mode 0)\n",
      "            Current function value: 0.09721346990256834\n",
      "            Iterations: 105\n",
      "            Function evaluations: 106\n",
      "            Gradient evaluations: 105\n",
      "\n",
      "hyperkalemia\n",
      "Optimization terminated successfully    (Exit mode 0)\n",
      "            Current function value: 0.035153311545928184\n",
      "            Iterations: 170\n",
      "            Function evaluations: 170\n",
      "            Gradient evaluations: 170\n",
      "\n",
      "hypomagnesemia\n",
      "Optimization terminated successfully    (Exit mode 0)\n",
      "            Current function value: 0.10758809074458393\n",
      "            Iterations: 181\n",
      "            Function evaluations: 181\n",
      "            Gradient evaluations: 181\n",
      "\n",
      "hypocalcemia\n",
      "Optimization terminated successfully    (Exit mode 0)\n",
      "            Current function value: 0.026486483907280083\n",
      "            Iterations: 61\n",
      "            Function evaluations: 61\n",
      "            Gradient evaluations: 61\n",
      "\n",
      "hypercalcemia\n",
      "Optimization terminated successfully    (Exit mode 0)\n",
      "            Current function value: 0.03668607377510987\n",
      "            Iterations: 123\n",
      "            Function evaluations: 124\n",
      "            Gradient evaluations: 123\n"
     ]
    }
   ],
   "source": [
    "for ae in aes:\n",
    "    print(\"\\n\"+ae)\n",
    "    if os.path.exists(f\"./dfci/dfci_patient_data_ml_{ae.replace('/', '_')}_coef_table_{detect_thres}_{include_tissue_type}_{top_tissue_only}_{standardize_scores}.csv\"):\n",
    "        print(f\"\\nSkipping {ae} as it has already been processed.\\n\")\n",
    "        continue\n",
    "\n",
    "    dfci_patient_data_ml_drug_twosides_scores_X = dfci_patient_drugs_twosides_scores.drop_duplicates().T.drop_duplicates().T.loc[[o for o in outcome_mapper[ae][\"twosides\"] if o not in {\"Adverse drug reaction\", \"Adverse event\"}], dfci_patient_data_ml[[\"drug_name_1\", \"drug_name_2\"]].apply(lambda row: (row[\"drug_name_1\"], row[\"drug_name_2\"]), axis=1).values].T\n",
    "    dfci_patient_data_ml_drug_twosides_scores_X.columns = [col+\"_twosides\" for col in dfci_patient_data_ml_drug_twosides_scores_X.columns]\n",
    "    dfci_patient_data_ml_drug_twosides_scores_X.index = dfci_patient_data_ml_patient_X.index\n",
    "\n",
    "    # Prepare X and y\n",
    "    X = [dfci_patient_data_ml_patient_X]\n",
    "    \n",
    "    score_ind = aes_score_inds[ae]\n",
    "    X += [dfci_patient_data_ml_drug_twosides_scores_X.iloc[:, score_ind]]\n",
    "\n",
    "    X = pd.concat(X, axis=1)\n",
    "    y = dfci_patient_data_ml[f\"AE_{ae}\"].values\n",
    "\n",
    "    def _standardise(df, scaler=None):\n",
    "        \"\"\"Z-score numeric (non-binary) cols; keep dummies as-is.\"\"\"\n",
    "        df = df.copy()\n",
    "        num_mask = (df.dtypes == float) | (df.dtypes == int)\n",
    "        # any numeric col holding only {0,1} is probably a dummy --> skip\n",
    "        num_cols = [c for c in df.columns[num_mask]\n",
    "                    if set(df[c].dropna().unique()) - {0, 1}]\n",
    "        if scaler is None:\n",
    "            scaler = StandardScaler()\n",
    "            df[num_cols] = scaler.fit_transform(df[num_cols])\n",
    "            return df, scaler\n",
    "        else:\n",
    "            df[num_cols] = scaler.transform(df[num_cols])\n",
    "            return df\n",
    "\n",
    "    # -----------------------------------------------------------\n",
    "    # 1.  Scale once on the full feature set\n",
    "    # -----------------------------------------------------------\n",
    "    if standardize_scores:  # If not float, _standardise will not standardize the scores, which are originally float32 or object\n",
    "        X = X.astype(float)\n",
    "        \n",
    "    y_arr      = y.copy()\n",
    "    index_arr  = X.index.values  # ndarray of patient IDs\n",
    "    \n",
    "    # -----------------------------------------------------------\n",
    "    # 2.  Hyper-parameter grid\n",
    "    # -----------------------------------------------------------\n",
    "    alphas = 10 ** np.arange(-4., 2.5, .5)\n",
    "\n",
    "    # best_auroc, best_auprc, best_hp = -np.inf, -np.inf, None\n",
    "    best_auroc, best_hp = -np.inf, None\n",
    "    skf = StratifiedKFold(n_splits=5, shuffle=True, random_state=42)\n",
    "\n",
    "    for alpha in alphas:\n",
    "        fold_aurocs = []\n",
    "        fold_auprcs = []\n",
    "        for tr_idx, va_idx in skf.split(index_arr, y_arr):\n",
    "            X_scaled_tr, scaler = _standardise(X.iloc[tr_idx])\n",
    "            X_np_tr = X_scaled_tr.values.astype(float)\n",
    "            X_tr = X_np_tr\n",
    "            X_tr_c = sm.add_constant(X_tr, has_constant='add')\n",
    "            y_tr = y_arr[tr_idx]\n",
    "\n",
    "            mod = sm.Logit(y_tr, X_tr_c)\n",
    "            with warnings.catch_warnings():\n",
    "                from statsmodels.tools.sm_exceptions import ConvergenceWarning\n",
    "                warnings.filterwarnings(\"ignore\", category=ConvergenceWarning)\n",
    "                res = mod.fit_regularized(method=\"l1\", alpha=alpha, maxiter=8_000, cnvrg_tol=1e-8, disp=False)\n",
    "\n",
    "            # predict on each direction ---------------------\n",
    "            X_scaled_va = X.iloc[va_idx]\n",
    "            X_np_va = X_scaled_va.values.astype(float)\n",
    "            X_va_dup = X_np_va\n",
    "            X_va_dup_c = sm.add_constant(X_va_dup, has_constant='add')\n",
    "            agg_pred = res.predict(X_va_dup_c)\n",
    "\n",
    "            # fold_auprcs.append(average_precision_score(y_arr[va_idx], agg_pred))\n",
    "            fold_aurocs.append(roc_auc_score(y_arr[va_idx], agg_pred))\n",
    "\n",
    "        mean_auroc = np.mean(fold_aurocs)\n",
    "        # mean_auprc = np.mean(fold_auprcs)\n",
    "        # if (mean_auprc > best_auprc) or ((mean_auprc == best_auprc) and (mean_auroc > best_auroc)):\n",
    "        if mean_auroc > best_auroc:\n",
    "            best_auroc, best_hp = mean_auroc, alpha\n",
    "            # best_auprc = mean_auprc\n",
    "        # print(f\"alpha={alpha:.1e}  -->  AUPRC={mean_auprc:.3f}  AUROC={mean_auroc:.3f}\")\n",
    "\n",
    "    # print(f\"\\nBEST  AUPRC={best_auprc:.3f}  AUROC={best_auroc:.3f}  at alpha={best_hp:.3g}\")\n",
    "    \n",
    "    alpha_opt = best_hp\n",
    "    \n",
    "    X_scaled, scaler = _standardise(X)\n",
    "    X_np       = X_scaled.values.astype(float)\n",
    "    y_arr      = y.copy()\n",
    "    X_dup = X_np\n",
    "    y_dup = y_arr\n",
    "    X_dup_c = sm.add_constant(X_dup, has_constant='add')\n",
    "\n",
    "    mod_full = sm.Logit(y_dup, X_dup_c)\n",
    "    with warnings.catch_warnings():\n",
    "        from statsmodels.tools.sm_exceptions import ConvergenceWarning\n",
    "        warnings.filterwarnings(\"ignore\", category=ConvergenceWarning)\n",
    "        res_full = mod_full.fit_regularized(method=\"l1\",\n",
    "                                            cnvrg_tol=1e-8,\n",
    "                                            alpha=alpha_opt, \n",
    "                                            refit=True, \n",
    "                                            maxiter=8_000)  # -ll/n + alpha * ((1 - l1_wt) * |param|_2^2/2 + l1_wt * |param|_1)\n",
    "\n",
    "    # Example: save tidy table of effects\n",
    "    params   = res_full.params                    # log-odds coefficients\n",
    "    se       = res_full.bse                       # robust or ML SEs (depends on .fit())\n",
    "    pvalues  = res_full.pvalues\n",
    "    ci_lo, ci_hi = res_full.conf_int().T   # log-odds CI limits\n",
    "\n",
    "    # ---------- build table ----------\n",
    "    coef_table = (\n",
    "        pd.DataFrame({\n",
    "            \"feature\"   : [\"const\"] + X_scaled.columns.tolist(),            # includes 'const'\n",
    "            \"beta\"      : params,           # log-odds\n",
    "            \"OR\"        : np.exp(params),   # odds ratio\n",
    "            \"CI_low\"    : np.exp(ci_lo),           # 95 % CI lower bound (OR scale)\n",
    "            \"CI_high\"   : np.exp(ci_hi),           # 95 % CI upper bound\n",
    "            \"se\"        : se,\n",
    "            \"p\"         : pvalues,\n",
    "        })\n",
    "        .sort_values(\"p\")                          # smallest p on top\n",
    "        .reset_index(drop=True)\n",
    "    )\n",
    "    \n",
    "    coef_table.to_csv(f\"./dfci/dfci_patient_data_ml_{ae.replace('/', '_')}_coef_table_{detect_thres}_{include_tissue_type}_{top_tissue_only}_{standardize_scores}.csv\", index=False)\n"
   ]
  },
  {
   "cell_type": "markdown",
   "metadata": {},
   "source": [
    "### Patient-specific AE prediction"
   ]
  },
  {
   "cell_type": "code",
   "execution_count": null,
   "metadata": {},
   "outputs": [
    {
     "name": "stdout",
     "output_type": "stream",
     "text": [
      "(3577, 26) (3577, 15)\n"
     ]
    }
   ],
   "source": [
    "include_tissue_type = True\n",
    "top_tissue_only = 10\n",
    "\n",
    "include_one_hot_drug_pair = False\n",
    "standardize_scores = False\n",
    "\n",
    "dfci_patient_data_filtered = pd.read_pickle(\"./dfci/dfci_patient_data_filtered.pkl\")\n",
    "\n",
    "assert not dfci_patient_data_filtered.index.has_duplicates\n",
    "dfci_patient_data_ml = dfci_patient_data_filtered.query(\"(drug_name_1 not in @heme_drugs and drug_name_2 not in @heme_drugs) and ICD_BASED_TISSUE_TYPE not in @heme_tissues\")\n",
    "dfci_patient_data_ml = dfci_patient_data_ml[~dfci_patient_data_ml[\"FIRST_DRUG_REGIMEN\"].str.contains(\"PEGYLATEDLIPOSOMALDOXORUBICIN\")]  # no match\n",
    "dfci_patient_data_ml.loc[dfci_patient_data_ml[\"RACE\"].isin(dfci_patient_data_ml[\"RACE\"].value_counts()[dfci_patient_data_ml[\"RACE\"].value_counts() < 100].index.values), \"RACE\"] = \"OTHER\"\n",
    "\n",
    "# Keep only the 10 most frequent tissue types; everything else --> 'OTHER'\n",
    "top5_tissues = dfci_patient_data_ml[\"ICD_BASED_TISSUE_TYPE\"].value_counts().nlargest(top_tissue_only).index\n",
    "# Exclude UNSPECIFIED\n",
    "if \"UNSPECIFIED\" in top5_tissues:\n",
    "    top5_tissues = top5_tissues.drop(\"UNSPECIFIED\")\n",
    "dfci_patient_data_ml[\"ICD_BASED_TISSUE_TYPE_REDUCED\"] = np.where(\n",
    "    dfci_patient_data_ml[\"ICD_BASED_TISSUE_TYPE\"].isin(top5_tissues),\n",
    "    dfci_patient_data_ml[\"ICD_BASED_TISSUE_TYPE\"],\n",
    "    \"Other\",\n",
    ")\n",
    "\n",
    "drop_cols = [\"MALE\"]\n",
    "patient_data_cols = [\"GENDER_NM\"]\n",
    "if include_tissue_type:\n",
    "    drop_cols += [\"Other\"]\n",
    "    patient_data_cols += [\"ICD_BASED_TISSUE_TYPE_REDUCED\"]\n",
    "drop_cols += [\"OTHER\"]\n",
    "patient_data_cols += [\"RACE\"]\n",
    "        \n",
    "ohe = OneHotEncoder(sparse_output=False, handle_unknown=\"ignore\", drop=drop_cols)\n",
    "dfci_patient_data_ml_patient_X = pd.DataFrame(ohe.fit_transform(dfci_patient_data_ml[patient_data_cols]), columns=ohe.get_feature_names_out(), index=dfci_patient_data_ml.index)\n",
    "dfci_patient_data_ml_patient_X = pd.concat([\n",
    "    dfci_patient_data_ml[[\"PALLIATIVE_INTENT\", \"AGE_AT_TREAT\"]],\n",
    "    dfci_patient_data_ml_patient_X\n",
    "], axis=1)\n",
    "\n",
    "print(dfci_patient_data_ml.shape, dfci_patient_data_ml_patient_X.shape)"
   ]
  },
  {
   "cell_type": "code",
   "execution_count": null,
   "metadata": {},
   "outputs": [],
   "source": [
    "from rdkit import Chem\n",
    "from rdkit.Chem import AllChem, DataStructs\n",
    "\n",
    "unique_drug_inds = np.unique(dfci_patient_data_ml[[\"drug_index_1\", \"drug_index_2\"]].values.flatten())\n",
    "smiles = drug_metadata[\"canonical_smiles\"].loc[unique_drug_inds].values.tolist()\n",
    "\n",
    "def morgan_fp(smiles: str,\n",
    "                radius: int = 2,      # ECFP4\n",
    "                n_bits: int = 32,     # 64-dim output\n",
    "                use_chirality: bool = True) -> np.ndarray:\n",
    "    \"\"\"Return a n_bits-element numpy vector.\"\"\"\n",
    "    mol = Chem.MolFromSmiles(smiles)\n",
    "    if mol is None:\n",
    "        return np.zeros(n_bits, dtype=np.uint8)\n",
    "\n",
    "    bv = AllChem.GetMorganFingerprintAsBitVect(\n",
    "            mol,\n",
    "            radius=radius,\n",
    "            nBits=n_bits,\n",
    "            useChirality=use_chirality)\n",
    "\n",
    "    arr = np.zeros(n_bits, dtype=np.uint8)\n",
    "    DataStructs.ConvertToNumpyArray(bv, arr)\n",
    "    return arr\n",
    "\n",
    "drug_fps = {ind: morgan_fp(smi, n_bits=32).astype(float) for ind, smi in zip(unique_drug_inds, smiles)}"
   ]
  },
  {
   "cell_type": "code",
   "execution_count": 65,
   "metadata": {},
   "outputs": [
    {
     "data": {
      "text/plain": [
       "26"
      ]
     },
     "execution_count": 65,
     "metadata": {},
     "output_type": "execute_result"
    }
   ],
   "source": [
    "dfci_patient_data_ml[\"FIRST_DRUG_REGIMEN\"].nunique()\n",
    "# print(\", \".join([\"+\".join([d.capitalize() for d in pair.split(\"+\")]) for pair in sorted(dfci_patient_data_ml[\"FIRST_DRUG_REGIMEN\"].unique())]))"
   ]
  },
  {
   "cell_type": "code",
   "execution_count": null,
   "metadata": {},
   "outputs": [],
   "source": [
    "from sklearn.metrics import roc_auc_score\n",
    "from sklearn.ensemble import RandomForestClassifier\n",
    "\n",
    "\n",
    "def _standardise(df, scaler=None):\n",
    "    \"\"\"Z-score numeric (non-binary) cols; keep dummies as-is.\"\"\"\n",
    "    df = df.copy()\n",
    "    num_mask = (df.dtypes == float) | (df.dtypes == int)\n",
    "    # any numeric col holding only {0,1} is probably a dummy --> skip\n",
    "    num_cols = [c for c in df.columns[num_mask]\n",
    "                if set(df[c].dropna().unique()) - {0, 1}]\n",
    "    if scaler is None:\n",
    "        scaler = StandardScaler()\n",
    "        df[num_cols] = scaler.fit_transform(df[num_cols])\n",
    "        return df, scaler\n",
    "    else:\n",
    "        df[num_cols] = scaler.transform(df[num_cols])\n",
    "        return df\n",
    "\n",
    "\n",
    "# Madrigal\n",
    "ckpt_aurocs = {}\n",
    "all_aurocs = {}\n",
    "all_aurocs_std = {}\n",
    "for ae in aes:\n",
    "    for seed in [0,1,2,42,99]:\n",
    "        for ckpt in twosides_ckpts:\n",
    "            embeds = torch.load(BASE_DIR + f\"model_output/TWOSIDES/split_by_pairs/{ckpt}/all_drug_embeddings_full_700.pt\").numpy()\n",
    "            pca = PCA(n_components=32)\n",
    "            embeds = pca.fit_transform(embeds)\n",
    "        \n",
    "            dfci_patient_data_ml_drug_1_embeds_X = pd.DataFrame(embeds[dfci_patient_data_ml[\"drug_index_1\"].values, :], index=dfci_patient_data_ml_patient_X.index, columns=[\"madrigal_\"+str(i)+\"_drug_1\" for i in range(embeds.shape[1])])\n",
    "            dfci_patient_data_ml_drug_2_embeds_X = pd.DataFrame(embeds[dfci_patient_data_ml[\"drug_index_2\"].values, :], index=dfci_patient_data_ml_patient_X.index, columns=[\"madrigal_\"+str(i)+\"_drug_2\" for i in range(embeds.shape[1])])  # reverse later\n",
    "\n",
    "            # Prepare X and y\n",
    "            X = [dfci_patient_data_ml_patient_X]\n",
    "            X += [dfci_patient_data_ml_drug_1_embeds_X, dfci_patient_data_ml_drug_2_embeds_X]\n",
    "            X_rev = [dfci_patient_data_ml_patient_X]  # for reverse direction (of a drug pair)\n",
    "            X_rev += [dfci_patient_data_ml_drug_2_embeds_X.rename(\n",
    "                columns=dict(zip(dfci_patient_data_ml_drug_2_embeds_X.columns, [col.replace(\"_drug_2\", \"_drug_1\") for col in dfci_patient_data_ml_drug_2_embeds_X.columns]))\n",
    "            ), dfci_patient_data_ml_drug_1_embeds_X.rename(\n",
    "                columns=dict(zip(dfci_patient_data_ml_drug_1_embeds_X.columns, [col.replace(\"_drug_1\", \"_drug_2\") for col in dfci_patient_data_ml_drug_1_embeds_X.columns]))\n",
    "            )]\n",
    "        \n",
    "            X = pd.concat(X, axis=1)\n",
    "            X_rev = pd.concat(X_rev, axis=1)\n",
    "            y = dfci_patient_data_ml[f\"AE_{ae}\"].values\n",
    "\n",
    "            if standardize_scores:  # If not float, _standardise will not standardize the scores, which are originally float32 or object\n",
    "                X = X.astype(float)\n",
    "                X_rev = X_rev.astype(float)\n",
    "                \n",
    "            y_arr = y.copy()\n",
    "            index_arr = X.index.values\n",
    "        \n",
    "            skf = StratifiedKFold(n_splits=5, shuffle=True, random_state=42)\n",
    "\n",
    "            fold_aurocs = []\n",
    "            for tr_idx, va_idx in skf.split(index_arr, y_arr):\n",
    "                X_merged_tr = pd.concat([X.iloc[tr_idx], X_rev.iloc[tr_idx]], axis=0)\n",
    "                X_merged_scaled_tr, scaler = _standardise(X_merged_tr)  # fit on merged data\n",
    "                X_scaled_tr = X_merged_scaled_tr.iloc[:len(tr_idx)]  # first half is X\n",
    "                X_rev_scaled_tr = X_merged_scaled_tr.iloc[len(tr_idx):]  # second half is\n",
    "                X_np_tr = X_scaled_tr.values.astype(float)\n",
    "                X_rev_np_tr = X_rev_scaled_tr.values.astype(float)\n",
    "                X_tr = np.concatenate([X_np_tr, X_rev_np_tr], axis=0)\n",
    "                y_tr = np.tile(y_arr[tr_idx], 2)\n",
    "\n",
    "                res = RandomForestClassifier(n_estimators=100, criterion=\"gini\", max_depth=4, random_state=seed, n_jobs=-1)\n",
    "                with warnings.catch_warnings():\n",
    "                    from sklearn.exceptions import ConvergenceWarning\n",
    "                    warnings.filterwarnings(\"ignore\", category=ConvergenceWarning)\n",
    "                    res.fit(X_tr, y_tr)\n",
    "            \n",
    "                X_merged_va = pd.concat([X.iloc[va_idx], X_rev.iloc[va_idx]], axis=0)\n",
    "                X_merged_scaled_va = _standardise(X_merged_va, scaler)  # fit on merged data\n",
    "                X_scaled_va = X_merged_scaled_va.iloc[:len(va_idx)]  # first half is X\n",
    "                X_rev_scaled_va = X_merged_scaled_va.iloc[len(va_idx):]\n",
    "                X_np_va = X_scaled_va.values.astype(float)\n",
    "                X_rev_np_va = X_rev_scaled_va.values.astype(float)\n",
    "                X_va_dup = np.concatenate([X_np_va, X_rev_np_va], axis=0)\n",
    "                \n",
    "                agg_pred = res.predict_proba(X_va_dup)[:, 1]\n",
    "                agg_pred = agg_pred.reshape(2, -1).mean(0)\n",
    "\n",
    "                fold_aurocs.append(roc_auc_score(y_arr[va_idx], agg_pred))\n",
    "\n",
    "            mean_auroc = np.mean(fold_aurocs)\n",
    "            ckpt_aurocs.setdefault(ae, []).append(mean_auroc)\n",
    "        \n",
    "    all_aurocs[ae] = np.mean(ckpt_aurocs[ae])\n",
    "    all_aurocs_std[ae] = np.std(ckpt_aurocs[ae])\n",
    "\n",
    "\n",
    "# BASELINE: Patient characteristics + Morgan FP\n",
    "all_aurocs_baseline = {}\n",
    "all_aurocs_baseline_std = {}\n",
    "dfci_patient_data_ml_patient_X_baseline = dfci_patient_data_ml_patient_X.copy()\n",
    "for ae in aes:\n",
    "    for seed in [0,1,2,42,99]:\n",
    "        dfci_patient_data_ml_drug_1_fps_X = pd.DataFrame(\n",
    "            np.stack(dfci_patient_data_ml[\"drug_index_1\"].apply(lambda x: drug_fps[x]).values, axis=0),\n",
    "            columns=[\"morgan_\"+str(i)+\"_drug_1\" for i in range(list(drug_fps.values())[0].shape[0])],\n",
    "            index=dfci_patient_data_ml.index\n",
    "        )\n",
    "        dfci_patient_data_ml_drug_2_fps_X = pd.DataFrame(\n",
    "            np.stack(dfci_patient_data_ml[\"drug_index_2\"].apply(lambda x: drug_fps[x]).values, axis=0),\n",
    "            columns=[\"morgan_\"+str(i)+\"_drug_2\" for i in range(list(drug_fps.values())[0].shape[0])],\n",
    "            index=dfci_patient_data_ml.index\n",
    "        )\n",
    "            \n",
    "        # Prepare X and y\n",
    "        X = [dfci_patient_data_ml_patient_X_baseline]\n",
    "        X += [dfci_patient_data_ml_drug_1_fps_X, dfci_patient_data_ml_drug_2_fps_X]\n",
    "        X_rev = [dfci_patient_data_ml_patient_X_baseline]  # for reverse direction (of a drug pair)\n",
    "        X_rev += [dfci_patient_data_ml_drug_2_fps_X.rename(\n",
    "            columns=dict(zip(dfci_patient_data_ml_drug_2_fps_X.columns, [col.replace(\"_drug_2\", \"_drug_1\") for col in dfci_patient_data_ml_drug_2_fps_X.columns]))\n",
    "        ), dfci_patient_data_ml_drug_1_fps_X.rename(\n",
    "            columns=dict(zip(dfci_patient_data_ml_drug_1_fps_X.columns, [col.replace(\"_drug_1\", \"_drug_2\") for col in dfci_patient_data_ml_drug_1_fps_X.columns]))\n",
    "        )]\n",
    "        \n",
    "        X = pd.concat(X, axis=1)\n",
    "        X_rev = pd.concat(X_rev, axis=1)\n",
    "        y = dfci_patient_data_ml[f\"AE_{ae}\"].values\n",
    "        \n",
    "        if standardize_scores:  # If not float, _standardise will not standardize the scores, which are originally float32 or object\n",
    "            X = X.astype(float)\n",
    "            X_rev = X_rev.astype(float)\n",
    "                \n",
    "        y_arr      = y.copy()\n",
    "        index_arr  = X.index.values  # ndarray of patient IDs\n",
    "        \n",
    "        skf = StratifiedKFold(n_splits=5, shuffle=True, random_state=42)\n",
    "\n",
    "        fold_aurocs = []\n",
    "        for tr_idx, va_idx in skf.split(index_arr, y_arr):\n",
    "            X_merged_tr = pd.concat([X.iloc[tr_idx], X_rev.iloc[tr_idx]], axis=0)\n",
    "            X_merged_scaled_tr, scaler = _standardise(X_merged_tr)  # fit on merged data\n",
    "            X_scaled_tr = X_merged_scaled_tr.iloc[:len(tr_idx)]  # first half is X\n",
    "            X_rev_scaled_tr = X_merged_scaled_tr.iloc[len(tr_idx):]  # second half is\n",
    "            X_np_tr = X_scaled_tr.values.astype(float)\n",
    "            X_rev_np_tr = X_rev_scaled_tr.values.astype(float)\n",
    "            X_tr = np.concatenate([X_np_tr, X_rev_np_tr], axis=0)\n",
    "            y_tr = np.tile(y_arr[tr_idx], 2)\n",
    "\n",
    "            res = RandomForestClassifier(n_estimators=100, criterion=\"gini\", max_depth=4, random_state=seed, n_jobs=-1)\n",
    "            with warnings.catch_warnings():\n",
    "                from sklearn.exceptions import ConvergenceWarning\n",
    "                warnings.filterwarnings(\"ignore\", category=ConvergenceWarning)\n",
    "                res.fit(X_tr, y_tr)\n",
    "        \n",
    "            X_merged_va = pd.concat([X.iloc[va_idx], X_rev.iloc[va_idx]], axis=0)\n",
    "            X_merged_scaled_va = _standardise(X_merged_va, scaler)  # fit on merged data\n",
    "            X_scaled_va = X_merged_scaled_va.iloc[:len(va_idx)]  # first half is X\n",
    "            X_rev_scaled_va = X_merged_scaled_va.iloc[len(va_idx):]\n",
    "            X_np_va = X_scaled_va.values.astype(float)\n",
    "            X_rev_np_va = X_rev_scaled_va.values.astype(float)\n",
    "            X_va_dup = np.concatenate([X_np_va, X_rev_np_va], axis=0)\n",
    "            \n",
    "            agg_pred = res.predict_proba(X_va_dup)[:, 1]\n",
    "            agg_pred = agg_pred.reshape(2, -1).mean(0)\n",
    "\n",
    "            fold_aurocs.append(roc_auc_score(y_arr[va_idx], agg_pred))\n",
    "            \n",
    "    all_aurocs_baseline[ae] = np.mean(fold_aurocs)\n",
    "    all_aurocs_baseline_std[ae] = np.std(fold_aurocs)\n",
    "\n",
    "\n",
    "# BASELINE: One-hot regimen encoding\n",
    "drop_cols = [\"MALE\"]\n",
    "patient_data_cols = [\"GENDER_NM\"]\n",
    "if include_tissue_type:\n",
    "    drop_cols += [\"Other\"]\n",
    "    patient_data_cols += [\"ICD_BASED_TISSUE_TYPE_REDUCED\"]\n",
    "drop_cols += [\"OTHER\"]\n",
    "patient_data_cols += [\"RACE\"]\n",
    "drop_cols += [\"CARBOPLATIN+PACLITAXEL\"]\n",
    "patient_data_cols += [\"FIRST_DRUG_REGIMEN\"]\n",
    "        \n",
    "ohe = OneHotEncoder(sparse_output=False, handle_unknown=\"ignore\", drop=drop_cols)\n",
    "dfci_patient_data_ml_patient_X_baseline = pd.DataFrame(ohe.fit_transform(dfci_patient_data_ml[patient_data_cols]), columns=ohe.get_feature_names_out(), index=dfci_patient_data_ml.index)\n",
    "dfci_patient_data_ml_patient_X_baseline = pd.concat([\n",
    "    dfci_patient_data_ml[[\"PALLIATIVE_INTENT\", \"AGE_AT_TREAT\"]],\n",
    "    dfci_patient_data_ml_patient_X_baseline\n",
    "], axis=1)\n",
    "\n",
    "all_aurocs_ohe = {}\n",
    "all_aurocs_ohe_std = {}\n",
    "for ae in aes:\n",
    "    for seed in [0,1,2,42,99]:\n",
    "        # Prepare X and y\n",
    "        X = dfci_patient_data_ml_patient_X_baseline.copy()\n",
    "        y = dfci_patient_data_ml[f\"AE_{ae}\"].values\n",
    "        \n",
    "        if standardize_scores:  # If not float, _standardise will not standardize the scores, which are originally float32 or object\n",
    "            X = X.astype(float)\n",
    "            \n",
    "        y_arr      = y.copy()\n",
    "        index_arr  = X.index.values  # ndarray of patient IDs\n",
    "        \n",
    "        skf = StratifiedKFold(n_splits=5, shuffle=True, random_state=42)\n",
    "\n",
    "        fold_aurocs = []\n",
    "        for tr_idx, va_idx in skf.split(index_arr, y_arr):\n",
    "            X_merged_tr = X.iloc[tr_idx]\n",
    "            X_scaled_tr, scaler = _standardise(X_merged_tr)  # fit on merged data\n",
    "            X_np_tr = X_scaled_tr.values.astype(float)\n",
    "\n",
    "            X_tr = X_np_tr\n",
    "            y_tr = y_arr[tr_idx]\n",
    "\n",
    "            res = RandomForestClassifier(n_estimators=100, criterion=\"gini\", max_depth=4, random_state=seed, n_jobs=-1)\n",
    "            with warnings.catch_warnings():\n",
    "                from sklearn.exceptions import ConvergenceWarning\n",
    "                warnings.filterwarnings(\"ignore\", category=ConvergenceWarning)\n",
    "                res.fit(X_tr, y_tr)\n",
    "        \n",
    "            X_merged_va = X.iloc[va_idx]\n",
    "            X_scaled_va = _standardise(X_merged_va, scaler)  # fit on merged data\n",
    "            X_np_va = X_scaled_va.values.astype(float)\n",
    "            \n",
    "            X_va_dup = X_np_va\n",
    "            agg_pred = res.predict_proba(X_va_dup)[:, 1]\n",
    "\n",
    "            fold_aurocs.append(roc_auc_score(y_arr[va_idx], agg_pred))\n",
    "\n",
    "    all_aurocs_ohe[ae] = np.mean(fold_aurocs)\n",
    "    all_aurocs_ohe_std[ae] = np.std(fold_aurocs)\n",
    "    \n",
    "\n",
    "df = pd.DataFrame.from_dict({\n",
    "    \"madrigal_aurocs\": all_aurocs,\n",
    "    \"madrigal_aurocs_std\": all_aurocs_std,\n",
    "    \"morgan_fps_aurocs\": all_aurocs_baseline,\n",
    "    \"morgan_fps_aurocs_std\": all_aurocs_baseline_std,\n",
    "    \"one_hot_regimen_aurocs\": all_aurocs_ohe,\n",
    "    \"one_hot_regimen_aurocs_std\": all_aurocs_ohe_std,\n",
    "}, orient=\"columns\")"
   ]
  },
  {
   "cell_type": "code",
   "execution_count": 67,
   "metadata": {},
   "outputs": [
    {
     "data": {
      "text/html": [
       "<div>\n",
       "<style scoped>\n",
       "    .dataframe tbody tr th:only-of-type {\n",
       "        vertical-align: middle;\n",
       "    }\n",
       "\n",
       "    .dataframe tbody tr th {\n",
       "        vertical-align: top;\n",
       "    }\n",
       "\n",
       "    .dataframe thead th {\n",
       "        text-align: right;\n",
       "    }\n",
       "</style>\n",
       "<table border=\"1\" class=\"dataframe\">\n",
       "  <thead>\n",
       "    <tr style=\"text-align: right;\">\n",
       "      <th></th>\n",
       "      <th>madrigal_aurocs</th>\n",
       "      <th>madrigal_aurocs_std</th>\n",
       "      <th>morgan_fps_aurocs</th>\n",
       "      <th>morgan_fps_aurocs_std</th>\n",
       "      <th>one_hot_regimen_aurocs</th>\n",
       "      <th>one_hot_regimen_aurocs_std</th>\n",
       "    </tr>\n",
       "  </thead>\n",
       "  <tbody>\n",
       "    <tr>\n",
       "      <th>neutropenia</th>\n",
       "      <td>0.656848</td>\n",
       "      <td>0.003116</td>\n",
       "      <td>0.628628</td>\n",
       "      <td>0.043011</td>\n",
       "      <td>0.610829</td>\n",
       "      <td>0.043159</td>\n",
       "    </tr>\n",
       "    <tr>\n",
       "      <th>pancytopenia</th>\n",
       "      <td>0.742523</td>\n",
       "      <td>0.005900</td>\n",
       "      <td>0.728668</td>\n",
       "      <td>0.054139</td>\n",
       "      <td>0.734023</td>\n",
       "      <td>0.051141</td>\n",
       "    </tr>\n",
       "    <tr>\n",
       "      <th>anemia</th>\n",
       "      <td>0.645019</td>\n",
       "      <td>0.003821</td>\n",
       "      <td>0.641327</td>\n",
       "      <td>0.034961</td>\n",
       "      <td>0.638308</td>\n",
       "      <td>0.022005</td>\n",
       "    </tr>\n",
       "    <tr>\n",
       "      <th>thrombocytopenia</th>\n",
       "      <td>0.752950</td>\n",
       "      <td>0.003215</td>\n",
       "      <td>0.748996</td>\n",
       "      <td>0.058050</td>\n",
       "      <td>0.739952</td>\n",
       "      <td>0.062810</td>\n",
       "    </tr>\n",
       "    <tr>\n",
       "      <th>polyneuropathy</th>\n",
       "      <td>0.706855</td>\n",
       "      <td>0.005559</td>\n",
       "      <td>0.696617</td>\n",
       "      <td>0.073744</td>\n",
       "      <td>0.693905</td>\n",
       "      <td>0.081625</td>\n",
       "    </tr>\n",
       "    <tr>\n",
       "      <th>pulmonary_embolism/deep_vein_thrombosis</th>\n",
       "      <td>0.675816</td>\n",
       "      <td>0.004416</td>\n",
       "      <td>0.700503</td>\n",
       "      <td>0.022182</td>\n",
       "      <td>0.689393</td>\n",
       "      <td>0.017375</td>\n",
       "    </tr>\n",
       "    <tr>\n",
       "      <th>acute_kidney_injury</th>\n",
       "      <td>0.681986</td>\n",
       "      <td>0.004559</td>\n",
       "      <td>0.688367</td>\n",
       "      <td>0.090336</td>\n",
       "      <td>0.661179</td>\n",
       "      <td>0.089250</td>\n",
       "    </tr>\n",
       "    <tr>\n",
       "      <th>hyponatremia</th>\n",
       "      <td>0.681373</td>\n",
       "      <td>0.002027</td>\n",
       "      <td>0.679357</td>\n",
       "      <td>0.036780</td>\n",
       "      <td>0.681781</td>\n",
       "      <td>0.043588</td>\n",
       "    </tr>\n",
       "    <tr>\n",
       "      <th>hypokalemia</th>\n",
       "      <td>0.572145</td>\n",
       "      <td>0.004039</td>\n",
       "      <td>0.561256</td>\n",
       "      <td>0.036973</td>\n",
       "      <td>0.568751</td>\n",
       "      <td>0.036852</td>\n",
       "    </tr>\n",
       "    <tr>\n",
       "      <th>hyperkalemia</th>\n",
       "      <td>0.712507</td>\n",
       "      <td>0.009736</td>\n",
       "      <td>0.660941</td>\n",
       "      <td>0.133960</td>\n",
       "      <td>0.657905</td>\n",
       "      <td>0.146322</td>\n",
       "    </tr>\n",
       "    <tr>\n",
       "      <th>hypomagnesemia</th>\n",
       "      <td>0.648577</td>\n",
       "      <td>0.009282</td>\n",
       "      <td>0.629513</td>\n",
       "      <td>0.020601</td>\n",
       "      <td>0.654614</td>\n",
       "      <td>0.010049</td>\n",
       "    </tr>\n",
       "    <tr>\n",
       "      <th>hypocalcemia</th>\n",
       "      <td>0.696420</td>\n",
       "      <td>0.009806</td>\n",
       "      <td>0.648942</td>\n",
       "      <td>0.190326</td>\n",
       "      <td>0.634084</td>\n",
       "      <td>0.133489</td>\n",
       "    </tr>\n",
       "    <tr>\n",
       "      <th>hypercalcemia</th>\n",
       "      <td>0.663453</td>\n",
       "      <td>0.010227</td>\n",
       "      <td>0.610245</td>\n",
       "      <td>0.099530</td>\n",
       "      <td>0.607372</td>\n",
       "      <td>0.093140</td>\n",
       "    </tr>\n",
       "  </tbody>\n",
       "</table>\n",
       "</div>"
      ],
      "text/plain": [
       "                                         madrigal_aurocs  madrigal_aurocs_std   \n",
       "neutropenia                                     0.656848             0.003116  \\\n",
       "pancytopenia                                    0.742523             0.005900   \n",
       "anemia                                          0.645019             0.003821   \n",
       "thrombocytopenia                                0.752950             0.003215   \n",
       "polyneuropathy                                  0.706855             0.005559   \n",
       "pulmonary_embolism/deep_vein_thrombosis         0.675816             0.004416   \n",
       "acute_kidney_injury                             0.681986             0.004559   \n",
       "hyponatremia                                    0.681373             0.002027   \n",
       "hypokalemia                                     0.572145             0.004039   \n",
       "hyperkalemia                                    0.712507             0.009736   \n",
       "hypomagnesemia                                  0.648577             0.009282   \n",
       "hypocalcemia                                    0.696420             0.009806   \n",
       "hypercalcemia                                   0.663453             0.010227   \n",
       "\n",
       "                                         morgan_fps_aurocs   \n",
       "neutropenia                                       0.628628  \\\n",
       "pancytopenia                                      0.728668   \n",
       "anemia                                            0.641327   \n",
       "thrombocytopenia                                  0.748996   \n",
       "polyneuropathy                                    0.696617   \n",
       "pulmonary_embolism/deep_vein_thrombosis           0.700503   \n",
       "acute_kidney_injury                               0.688367   \n",
       "hyponatremia                                      0.679357   \n",
       "hypokalemia                                       0.561256   \n",
       "hyperkalemia                                      0.660941   \n",
       "hypomagnesemia                                    0.629513   \n",
       "hypocalcemia                                      0.648942   \n",
       "hypercalcemia                                     0.610245   \n",
       "\n",
       "                                         morgan_fps_aurocs_std   \n",
       "neutropenia                                           0.043011  \\\n",
       "pancytopenia                                          0.054139   \n",
       "anemia                                                0.034961   \n",
       "thrombocytopenia                                      0.058050   \n",
       "polyneuropathy                                        0.073744   \n",
       "pulmonary_embolism/deep_vein_thrombosis               0.022182   \n",
       "acute_kidney_injury                                   0.090336   \n",
       "hyponatremia                                          0.036780   \n",
       "hypokalemia                                           0.036973   \n",
       "hyperkalemia                                          0.133960   \n",
       "hypomagnesemia                                        0.020601   \n",
       "hypocalcemia                                          0.190326   \n",
       "hypercalcemia                                         0.099530   \n",
       "\n",
       "                                         one_hot_regimen_aurocs   \n",
       "neutropenia                                            0.610829  \\\n",
       "pancytopenia                                           0.734023   \n",
       "anemia                                                 0.638308   \n",
       "thrombocytopenia                                       0.739952   \n",
       "polyneuropathy                                         0.693905   \n",
       "pulmonary_embolism/deep_vein_thrombosis                0.689393   \n",
       "acute_kidney_injury                                    0.661179   \n",
       "hyponatremia                                           0.681781   \n",
       "hypokalemia                                            0.568751   \n",
       "hyperkalemia                                           0.657905   \n",
       "hypomagnesemia                                         0.654614   \n",
       "hypocalcemia                                           0.634084   \n",
       "hypercalcemia                                          0.607372   \n",
       "\n",
       "                                         one_hot_regimen_aurocs_std  \n",
       "neutropenia                                                0.043159  \n",
       "pancytopenia                                               0.051141  \n",
       "anemia                                                     0.022005  \n",
       "thrombocytopenia                                           0.062810  \n",
       "polyneuropathy                                             0.081625  \n",
       "pulmonary_embolism/deep_vein_thrombosis                    0.017375  \n",
       "acute_kidney_injury                                        0.089250  \n",
       "hyponatremia                                               0.043588  \n",
       "hypokalemia                                                0.036852  \n",
       "hyperkalemia                                               0.146322  \n",
       "hypomagnesemia                                             0.010049  \n",
       "hypocalcemia                                               0.133489  \n",
       "hypercalcemia                                              0.093140  "
      ]
     },
     "execution_count": 67,
     "metadata": {},
     "output_type": "execute_result"
    }
   ],
   "source": [
    "df"
   ]
  }
 ],
 "metadata": {
  "kernelspec": {
   "display_name": "madrigal_env",
   "language": "python",
   "name": "python3"
  },
  "language_info": {
   "codemirror_mode": {
    "name": "ipython",
    "version": 3
   },
   "file_extension": ".py",
   "mimetype": "text/x-python",
   "name": "python",
   "nbconvert_exporter": "python",
   "pygments_lexer": "ipython3",
   "version": "3.8.19"
  }
 },
 "nbformat": 4,
 "nbformat_minor": 4
}
