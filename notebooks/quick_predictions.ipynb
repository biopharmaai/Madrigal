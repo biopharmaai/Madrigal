{
 "cells": [
  {
   "cell_type": "code",
   "execution_count": null,
   "metadata": {},
   "outputs": [],
   "source": [
    "import os\n",
    "from functools import partial\n",
    "import pandas as pd\n",
    "import numpy as np\n",
    "\n",
    "from madrigal.evaluate.predict import get_drugbank_scores_wrapper\n",
    "from madrigal.utils import BASE_DIR"
   ]
  },
  {
   "cell_type": "markdown",
   "metadata": {},
   "source": [
    "# Utils"
   ]
  },
  {
   "cell_type": "code",
   "execution_count": null,
   "metadata": {},
   "outputs": [
    {
     "name": "stdout",
     "output_type": "stream",
     "text": [
      "21842\n"
     ]
    }
   ],
   "source": [
    "drug_metadata = pd.read_pickle(os.path.join(BASE_DIR, 'processed_data/views_features_new/combined_metadata_ddi.pkl'))\n",
    "drug_metadata['view_str'] = 1\n",
    "print(drug_metadata.shape[0])\n",
    "\n",
    "drugbank_ddi_classes = pd.read_pickle(BASE_DIR + \"processed_data/polypharmacy_new/DrugBank/drugbank_ddi_directed_final_label_map.pkl\")\n",
    "drugbank_ddi_df = pd.read_csv(BASE_DIR + \"processed_data/polypharmacy_new/DrugBank/drugbank_ddi_directed_final.tsv\", index_col=0)\n",
    "get_drugbank_scores = partial(get_drugbank_scores_wrapper, ckpt_list=['drawn-grass-4', 'misty-oath-5', 'whole-fog-7', 'snowy-serenity-8', 'revived-aardvark-8'], drugbank_ddi_classes=drugbank_ddi_classes)"
   ]
  },
  {
   "cell_type": "markdown",
   "metadata": {},
   "source": [
    "# Make predictions"
   ]
  },
  {
   "cell_type": "code",
   "execution_count": 3,
   "metadata": {},
   "outputs": [],
   "source": [
    "combos = [\n",
    "    [\"Doxycycline\", \"Digoxin\"],\n",
    "    [\"Doxycycline\", \"Warfarin\"],\n",
    "    [\"Doxycycline\", \"Tacrolimus\"],\n",
    "    [\"Doxycycline\", \"Levetiracetam\"],\n",
    "    [\"Doxycycline\", \"Piracetam\"],\n",
    "]\n",
    "outcomes = [\n",
    "    'excretion rate, decrease | serum level, increase',\n",
    "    'excretion, decrease',\n",
    "    'serum level of the active metabolites, increase',\n",
    "    'serum level, increase',\n",
    "]"
   ]
  },
  {
   "cell_type": "code",
   "execution_count": 4,
   "metadata": {},
   "outputs": [],
   "source": [
    "drug_names = np.unique(combos)\n",
    "drug_inds = [drug_metadata[drug_metadata[\"node_name\"] == drug_name].index.values[0] for drug_name in drug_names]\n",
    "\n",
    "drug_1_ind_inds = [drug_names.tolist().index(pair[0]) for pair in combos]\n",
    "drug_2_ind_inds = [drug_names.tolist().index(pair[1]) for pair in combos]"
   ]
  },
  {
   "cell_type": "code",
   "execution_count": 21,
   "metadata": {},
   "outputs": [],
   "source": [
    "import warnings\n",
    "import contextlib\n",
    "import io\n",
    "with warnings.catch_warnings():\n",
    "    warnings.simplefilter(\"ignore\")\n",
    "    with contextlib.redirect_stdout(io.StringIO()):\n",
    "        drugbank_scores = get_drugbank_scores(\n",
    "            outcome_drugbank_inds=[drugbank_ddi_classes.tolist().index(o) for o in outcomes], \n",
    "            drug_inds=drug_inds, \n",
    "        )"
   ]
  },
  {
   "cell_type": "code",
   "execution_count": 22,
   "metadata": {},
   "outputs": [
    {
     "data": {
      "text/html": [
       "<div>\n",
       "<style scoped>\n",
       "    .dataframe tbody tr th:only-of-type {\n",
       "        vertical-align: middle;\n",
       "    }\n",
       "\n",
       "    .dataframe tbody tr th {\n",
       "        vertical-align: top;\n",
       "    }\n",
       "\n",
       "    .dataframe thead th {\n",
       "        text-align: right;\n",
       "    }\n",
       "</style>\n",
       "<table border=\"1\" class=\"dataframe\">\n",
       "  <thead>\n",
       "    <tr style=\"text-align: right;\">\n",
       "      <th></th>\n",
       "      <th>(Doxycycline, Digoxin)</th>\n",
       "      <th>(Doxycycline, Warfarin)</th>\n",
       "      <th>(Doxycycline, Tacrolimus)</th>\n",
       "      <th>(Doxycycline, Levetiracetam)</th>\n",
       "      <th>(Doxycycline, Piracetam)</th>\n",
       "    </tr>\n",
       "  </thead>\n",
       "  <tbody>\n",
       "    <tr>\n",
       "      <th>excretion rate, decrease | serum level, increase</th>\n",
       "      <td>0.963690</td>\n",
       "      <td>0.949302</td>\n",
       "      <td>0.945904</td>\n",
       "      <td>0.013773</td>\n",
       "      <td>0.988898</td>\n",
       "    </tr>\n",
       "    <tr>\n",
       "      <th>excretion, decrease</th>\n",
       "      <td>0.742310</td>\n",
       "      <td>0.800299</td>\n",
       "      <td>0.777249</td>\n",
       "      <td>0.219229</td>\n",
       "      <td>0.642533</td>\n",
       "    </tr>\n",
       "    <tr>\n",
       "      <th>serum level of the active metabolites, increase</th>\n",
       "      <td>0.064820</td>\n",
       "      <td>0.309553</td>\n",
       "      <td>0.111543</td>\n",
       "      <td>0.119407</td>\n",
       "      <td>0.269221</td>\n",
       "    </tr>\n",
       "    <tr>\n",
       "      <th>serum level, increase</th>\n",
       "      <td>0.375867</td>\n",
       "      <td>0.477788</td>\n",
       "      <td>0.615342</td>\n",
       "      <td>0.024048</td>\n",
       "      <td>0.106242</td>\n",
       "    </tr>\n",
       "  </tbody>\n",
       "</table>\n",
       "</div>"
      ],
      "text/plain": [
       "                                                  (Doxycycline, Digoxin)   \n",
       "excretion rate, decrease | serum level, increase                0.963690  \\\n",
       "excretion, decrease                                             0.742310   \n",
       "serum level of the active metabolites, increase                 0.064820   \n",
       "serum level, increase                                           0.375867   \n",
       "\n",
       "                                                  (Doxycycline, Warfarin)   \n",
       "excretion rate, decrease | serum level, increase                 0.949302  \\\n",
       "excretion, decrease                                              0.800299   \n",
       "serum level of the active metabolites, increase                  0.309553   \n",
       "serum level, increase                                            0.477788   \n",
       "\n",
       "                                                  (Doxycycline, Tacrolimus)   \n",
       "excretion rate, decrease | serum level, increase                   0.945904  \\\n",
       "excretion, decrease                                                0.777249   \n",
       "serum level of the active metabolites, increase                    0.111543   \n",
       "serum level, increase                                              0.615342   \n",
       "\n",
       "                                                  (Doxycycline, Levetiracetam)   \n",
       "excretion rate, decrease | serum level, increase                      0.013773  \\\n",
       "excretion, decrease                                                   0.219229   \n",
       "serum level of the active metabolites, increase                       0.119407   \n",
       "serum level, increase                                                 0.024048   \n",
       "\n",
       "                                                  (Doxycycline, Piracetam)  \n",
       "excretion rate, decrease | serum level, increase                  0.988898  \n",
       "excretion, decrease                                               0.642533  \n",
       "serum level of the active metabolites, increase                   0.269221  \n",
       "serum level, increase                                             0.106242  "
      ]
     },
     "execution_count": 22,
     "metadata": {},
     "output_type": "execute_result"
    }
   ],
   "source": [
    "pd.DataFrame(drugbank_scores[:, drug_1_ind_inds, drug_2_ind_inds], index=outcomes, columns=list(zip(np.array(drug_names)[drug_1_ind_inds], np.array(drug_names)[drug_2_ind_inds]))).drop_duplicates()"
   ]
  },
  {
   "cell_type": "code",
   "execution_count": null,
   "metadata": {},
   "outputs": [
    {
     "data": {
      "text/html": [
       "<div>\n",
       "<style scoped>\n",
       "    .dataframe tbody tr th:only-of-type {\n",
       "        vertical-align: middle;\n",
       "    }\n",
       "\n",
       "    .dataframe tbody tr th {\n",
       "        vertical-align: top;\n",
       "    }\n",
       "\n",
       "    .dataframe thead th {\n",
       "        text-align: right;\n",
       "    }\n",
       "</style>\n",
       "<table border=\"1\" class=\"dataframe\">\n",
       "  <thead>\n",
       "    <tr style=\"text-align: right;\">\n",
       "      <th></th>\n",
       "      <th>(Doxycycline, Digoxin)</th>\n",
       "      <th>(Doxycycline, Warfarin)</th>\n",
       "      <th>(Doxycycline, Tacrolimus)</th>\n",
       "      <th>(Doxycycline, Levetiracetam)</th>\n",
       "      <th>(Doxycycline, Piracetam)</th>\n",
       "    </tr>\n",
       "  </thead>\n",
       "  <tbody>\n",
       "    <tr>\n",
       "      <th>excretion rate, decrease | serum level, increase</th>\n",
       "      <td>0.997997</td>\n",
       "      <td>0.996835</td>\n",
       "      <td>0.996800</td>\n",
       "      <td>0.394416</td>\n",
       "      <td>0.999728</td>\n",
       "    </tr>\n",
       "    <tr>\n",
       "      <th>excretion, decrease</th>\n",
       "      <td>0.997046</td>\n",
       "      <td>0.998859</td>\n",
       "      <td>0.998453</td>\n",
       "      <td>0.821208</td>\n",
       "      <td>0.993314</td>\n",
       "    </tr>\n",
       "    <tr>\n",
       "      <th>serum level of the active metabolites, increase</th>\n",
       "      <td>0.561261</td>\n",
       "      <td>0.912119</td>\n",
       "      <td>0.790037</td>\n",
       "      <td>0.709302</td>\n",
       "      <td>0.904651</td>\n",
       "    </tr>\n",
       "    <tr>\n",
       "      <th>serum level, increase</th>\n",
       "      <td>0.942572</td>\n",
       "      <td>0.960703</td>\n",
       "      <td>0.978966</td>\n",
       "      <td>0.420068</td>\n",
       "      <td>0.765712</td>\n",
       "    </tr>\n",
       "  </tbody>\n",
       "</table>\n",
       "</div>"
      ],
      "text/plain": [
       "                                                  (Doxycycline, Digoxin)   \n",
       "excretion rate, decrease | serum level, increase                0.997997  \\\n",
       "excretion, decrease                                             0.997046   \n",
       "serum level of the active metabolites, increase                 0.561261   \n",
       "serum level, increase                                           0.942572   \n",
       "\n",
       "                                                  (Doxycycline, Warfarin)   \n",
       "excretion rate, decrease | serum level, increase                 0.996835  \\\n",
       "excretion, decrease                                              0.998859   \n",
       "serum level of the active metabolites, increase                  0.912119   \n",
       "serum level, increase                                            0.960703   \n",
       "\n",
       "                                                  (Doxycycline, Tacrolimus)   \n",
       "excretion rate, decrease | serum level, increase                   0.996800  \\\n",
       "excretion, decrease                                                0.998453   \n",
       "serum level of the active metabolites, increase                    0.790037   \n",
       "serum level, increase                                              0.978966   \n",
       "\n",
       "                                                  (Doxycycline, Levetiracetam)   \n",
       "excretion rate, decrease | serum level, increase                      0.394416  \\\n",
       "excretion, decrease                                                   0.821208   \n",
       "serum level of the active metabolites, increase                       0.709302   \n",
       "serum level, increase                                                 0.420068   \n",
       "\n",
       "                                                  (Doxycycline, Piracetam)  \n",
       "excretion rate, decrease | serum level, increase                  0.999728  \n",
       "excretion, decrease                                               0.993314  \n",
       "serum level of the active metabolites, increase                   0.904651  \n",
       "serum level, increase                                             0.765712  "
      ]
     },
     "execution_count": 20,
     "metadata": {},
     "output_type": "execute_result"
    }
   ],
   "source": [
    "# NOTE: The following file is 80GB large (see https://github.com/mims-harvard/Madrigal?tab=readme-ov-file#-notebooks for details)\n",
    "normalized_rank_drugbank = np.load(BASE_DIR + \"model_output/DrugBank/split_by_pairs/full_full_all_ddi_DrugBank_nash_drugs_normalized_ranks_700_5_runs_gmean_renormalized.npy\", mmap_mode=\"r\")\n",
    "pd.DataFrame(normalized_rank_drugbank[[drugbank_ddi_classes.tolist().index(o) for o in outcomes], :, :][:, np.array(drug_inds)[drug_1_ind_inds], np.array(drug_inds)[drug_2_ind_inds]], index=outcomes, columns=list(zip(np.array(drug_names)[drug_1_ind_inds], np.array(drug_names)[drug_2_ind_inds]))).drop_duplicates()"
   ]
  }
 ],
 "metadata": {
  "kernelspec": {
   "display_name": "madrigal_env",
   "language": "python",
   "name": "python3"
  },
  "language_info": {
   "codemirror_mode": {
    "name": "ipython",
    "version": 3
   },
   "file_extension": ".py",
   "mimetype": "text/x-python",
   "name": "python",
   "nbconvert_exporter": "python",
   "pygments_lexer": "ipython3",
   "version": "3.8.19"
  }
 },
 "nbformat": 4,
 "nbformat_minor": 2
}
