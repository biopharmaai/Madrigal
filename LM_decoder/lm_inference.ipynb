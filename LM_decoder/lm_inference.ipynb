{
 "cells": [
  {
   "cell_type": "code",
   "execution_count": null,
   "id": "49176bed",
   "metadata": {},
   "outputs": [],
   "source": [
    "import os\n",
    "from tqdm import tqdm\n",
    "from functools import partial\n",
    "\n",
    "import numpy as np\n",
    "import pandas as pd\n",
    "import torch\n",
    "import torch.nn as nn\n",
    "from transformers import AutoModel, AutoTokenizer"
   ]
  },
  {
   "cell_type": "code",
   "execution_count": null,
   "id": "42478f53",
   "metadata": {},
   "outputs": [],
   "source": [
    "out_pt_file = \"scores.pt\""
   ]
  },
  {
   "cell_type": "code",
   "execution_count": null,
   "id": "d96c4b15",
   "metadata": {},
   "outputs": [],
   "source": [
    "class LM(nn.Module):\n",
    "    def __init__(self, decoder, lm_model):\n",
    "        super(LM, self).__init__()\n",
    "        self.decoder = decoder\n",
    "        self.lm_model = lm_model\n",
    "\n",
    "    def forward(self, input_ids):\n",
    "        if self.lm_model == \"mistralai/Mistral-7B-v0.1\":\n",
    "            transformer_outputs = self.decoder(\n",
    "                input_ids[\"input_ids\"], attention_mask=input_ids[\"attention_mask\"]\n",
    "            )\n",
    "            hidden_states = transformer_outputs[0][:, 0, :]\n",
    "        else:\n",
    "            bert_embeddings = self.decoder.embeddings(input_ids=input_ids[\"input_ids\"])\n",
    "            extended_attention_mask = self.decoder.get_extended_attention_mask(\n",
    "                input_ids[\"attention_mask\"], input_ids[\"input_ids\"].size()\n",
    "            )\n",
    "            outputs = self.decoder.encoder(\n",
    "                bert_embeddings, attention_mask=extended_attention_mask\n",
    "            )\n",
    "            sequence_output = outputs[0]\n",
    "            hidden_states = self.decoder.pooler(sequence_output)\n",
    "        return hidden_states"
   ]
  },
  {
   "cell_type": "code",
   "execution_count": null,
   "id": "a4988700",
   "metadata": {},
   "outputs": [],
   "source": [
    "class TextDataset(torch.utils.data.Dataset):\n",
    "    def __init__(self, texts):\n",
    "        self.texts = texts\n",
    "\n",
    "    def __len__(self):\n",
    "        return len(self.texts)\n",
    "\n",
    "    def __getitem__(self, idx):\n",
    "        text = self.texts[idx]\n",
    "        return text\n",
    "\n",
    "\n",
    "def collate_fn(batch, tokenizer):\n",
    "    inputs = tokenizer(batch, padding=\"longest\", return_tensors=\"pt\")\n",
    "    return inputs"
   ]
  },
  {
   "cell_type": "code",
   "execution_count": null,
   "id": "d1b6cc6f",
   "metadata": {},
   "outputs": [],
   "source": [
    "def get_embeddings_labels(lm_model, csv_path):\n",
    "\n",
    "    device = \"cuda\"\n",
    "\n",
    "    print(\"\\nLoading tokenizer\")\n",
    "    tokenizer = AutoTokenizer.from_pretrained(lm_model)\n",
    "    if lm_model == \"mistralai/Mistral-7B-v0.1\":\n",
    "        tokenizer.pad_token = tokenizer.eos_token\n",
    "    tokenizer_length = len(tokenizer)\n",
    "\n",
    "    print(\"\\nLoading model\")\n",
    "    decoder = AutoModel.from_pretrained(lm_model).to(device)\n",
    "    model = LM(decoder, lm_model).to(device)\n",
    "    \n",
    "    print(\"Loading data\")\n",
    "    df = pd.read_csv(csv_path)\n",
    "    descriptions = df[\"descriptions\"].tolist()\n",
    "    label_descriptions = np.unique(descriptions)\n",
    "    \n",
    "    print(\"Running tokenizer\")\n",
    "    dataset = TextDataset(label_descriptions.tolist())\n",
    "    loader = torch.utils.data.DataLoader(\n",
    "                dataset, batch_size=40, collate_fn=partial(collate_fn, tokenizer=tokenizer), shuffle=False\n",
    "            )  \n",
    "    \n",
    "    print(\"Running model\")\n",
    "    outputs = []\n",
    "    for batch in tqdm(loader):\n",
    "        batch = batch.to(device)\n",
    "        with torch.no_grad():\n",
    "            example_outputs = model(batch)\n",
    "            outputs.append(example_outputs)\n",
    "    \n",
    "    outputs = torch.cat(outputs, dim=0)\n",
    "    assert outputs.size(dim=0) == len(label_descriptions)\n",
    "    \n",
    "    torch.save(\n",
    "            outputs,\n",
    "            os.path.join(out_pt_file)\n",
    "        )\n",
    "    \n",
    "    return out_pt_file"
   ]
  }
 ],
 "metadata": {
  "kernelspec": {
   "display_name": "madrigal_env",
   "language": "python",
   "name": "python3"
  },
  "language_info": {
   "codemirror_mode": {
    "name": "ipython",
    "version": 3
   },
   "file_extension": ".py",
   "mimetype": "text/x-python",
   "name": "python",
   "nbconvert_exporter": "python",
   "pygments_lexer": "ipython3",
   "version": "3.8.19"
  }
 },
 "nbformat": 4,
 "nbformat_minor": 5
}
