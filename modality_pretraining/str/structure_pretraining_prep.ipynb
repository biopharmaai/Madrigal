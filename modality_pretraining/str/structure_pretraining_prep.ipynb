{
 "cells": [
  {
   "cell_type": "code",
   "execution_count": null,
   "id": "f9f9969e",
   "metadata": {},
   "outputs": [],
   "source": [
    "import os\n",
    "\n",
    "import pandas as pd\n",
    "import numpy as np\n",
    "import math, os, random, json, pickle\n",
    "import pandas as pd\n",
    "import numpy as np\n",
    "import torch\n",
    "import torch.nn as nn\n",
    "import torch.nn.functional as F\n",
    "from tqdm import tqdm\n",
    "from copy import deepcopy\n",
    "\n",
    "from sklearn.preprocessing import StandardScaler\n",
    "from sklearn.decomposition import PCA\n",
    "\n",
    "import matplotlib.pyplot as plt\n",
    "from rdkit import Chem\n",
    "from rdkit import Chem\n",
    "from rdkit.Chem import AllChem\n",
    "from rdkit import DataStructs\n",
    "from rdkit.Chem.Fingerprints import FingerprintMols\n",
    "\n",
    "import torch\n",
    "import shutil\n",
    "\n",
    "import os\n",
    "import csv\n",
    "from tqdm import tqdm\n",
    "import shutil\n",
    "\n",
    "from madrigal.utils import DATA_DIR, BASE_DIR\n",
    "\n",
    "from torchdrug import data, utils\n",
    "from torchdrug.core import Registry as R"
   ]
  },
  {
   "cell_type": "code",
   "execution_count": null,
   "id": "1d523ac7",
   "metadata": {},
   "outputs": [],
   "source": [
    "# Download data\n",
    "path = '/path/to/Madrigal/modality_pretraining/str/pretraining/molecule-datasets/'\n",
    "url = \"http://deepchem.io.s3-website-us-west-1.amazonaws.com/datasets/muv.csv.gz\"\n",
    "md5 = \"9c40bd41310991efd40f4d4868fa3ddf\"\n",
    "file_name = utils.download(url, path, md5=md5)"
   ]
  },
  {
   "cell_type": "code",
   "execution_count": null,
   "id": "3f1357a7",
   "metadata": {},
   "outputs": [],
   "source": [
    "def remove_similar(df, name, root):\n",
    "    \n",
    "    smiles = df.smiles.tolist()\n",
    "    \n",
    "    test_between = pd.read_csv(DATA_DIR+'polypharmacy_new/DrugBank/split_by_drugs_random/test_between_df.csv')\n",
    "    test_within = pd.read_csv(DATA_DIR+'polypharmacy_new/DrugBank/split_by_drugs_random/test_within_df.csv')\n",
    "    all_smiles = pd.read_pickle(DATA_DIR+'polypharmacy_new/combined_metadata_ddi.pkl')\n",
    "    all_smiles = all_smiles.canonical_smiles\n",
    "    test = np.concatenate((test_between['head'].values, test_within['head'].values, test_within['tail'].values ))\n",
    "    test = np.unique(test)\n",
    "    test_smiles = all_smiles.loc[test].values\n",
    "    \n",
    "    def get_fingerprints(l):\n",
    "        all_mols = [AllChem.AddHs(Chem.MolFromSmiles(sm)) for sm in tqdm(l)] \n",
    "        all_fps = [AllChem.GetMorganFingerprintAsBitVect(mol, 2, nBits=256) for mol in tqdm(all_mols)]\n",
    "        return all_fps\n",
    "\n",
    "    fps = get_fingerprints(smiles)\n",
    "    test_fps = get_fingerprints(test_smiles)\n",
    "    \n",
    "    scores = []\n",
    "    for n in tqdm(fps):\n",
    "        score = DataStructs.BulkTanimotoSimilarity(n, test_fps)\n",
    "        scores.append(score)\n",
    "        \n",
    "    scores = np.array(scores)\n",
    "    msk = np.where(scores >= 0.98)\n",
    "    to_remove = msk[0]\n",
    "    \n",
    "    for i, smile in enumerate(smiles):\n",
    "        try:\n",
    "            x = Chem.MolFromSmiles(smile)\n",
    "        except:\n",
    "            print(f'Removed {i}')\n",
    "    \n",
    "    bad_df = df.index.isin(to_remove)\n",
    "    df = df[~bad_df]\n",
    "    \n",
    "    df.to_csv(os.path.join(root, f'{name}_filtered_torchdrug_new.csv'), index=False)"
   ]
  },
  {
   "cell_type": "code",
   "execution_count": null,
   "id": "9f4bd49c",
   "metadata": {},
   "outputs": [],
   "source": [
    "df = pd.read_csv(file_name, header=None)\n",
    "remove_similar(df, 'muv', path)"
   ]
  }
 ],
 "metadata": {
  "kernelspec": {
   "display_name": "madrigal_env",
   "language": "python",
   "name": "python3"
  },
  "language_info": {
   "codemirror_mode": {
    "name": "ipython",
    "version": 3
   },
   "file_extension": ".py",
   "mimetype": "text/x-python",
   "name": "python",
   "nbconvert_exporter": "python",
   "pygments_lexer": "ipython3",
   "version": "3.8.19"
  }
 },
 "nbformat": 4,
 "nbformat_minor": 5
}
