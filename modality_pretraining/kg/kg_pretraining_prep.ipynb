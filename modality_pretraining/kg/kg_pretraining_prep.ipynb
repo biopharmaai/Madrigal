{
 "cells": [
  {
   "cell_type": "code",
   "execution_count": null,
   "id": "697e5a70",
   "metadata": {},
   "outputs": [
    {
     "name": "stdout",
     "output_type": "stream",
     "text": [
      "00:15:19   Note: NumExpr detected 28 cores but \"NUMEXPR_MAX_THREADS\" not set, so enforcing safe limit of 8.\n"
     ]
    }
   ],
   "source": [
    "import torch\n",
    "import torch_geometric.transforms as T\n",
    "import sys\n",
    "from torch import nn\n",
    "import copy\n",
    "\n",
    "import pandas as pd\n",
    "import numpy as np\n",
    "\n",
    "from madrigal.models import models\n",
    "from madrigal.utils import DATA_DIR, BASE_DIR"
   ]
  },
  {
   "cell_type": "code",
   "execution_count": null,
   "id": "75df7906",
   "metadata": {},
   "outputs": [],
   "source": [
    "kg = pd.read_csv(BASE_DIR+'PrimeKG/kg.csv')\n",
    "meta = pd.read_csv(DATA_DIR+'views_features/combined_metadata_reindexed_ddi.csv')"
   ]
  },
  {
   "cell_type": "code",
   "execution_count": 13,
   "id": "755ec604",
   "metadata": {},
   "outputs": [],
   "source": [
    "in_kg = meta[meta.view_kg == 1].node_id"
   ]
  },
  {
   "cell_type": "code",
   "execution_count": 16,
   "id": "26d6ec87",
   "metadata": {},
   "outputs": [],
   "source": [
    "kg = kg[kg.x_id.isin(in_kg)]"
   ]
  },
  {
   "cell_type": "code",
   "execution_count": 22,
   "id": "019c0363",
   "metadata": {},
   "outputs": [],
   "source": [
    "counts = kg.groupby('x_id')['x_id'].count().tolist()"
   ]
  },
  {
   "cell_type": "code",
   "execution_count": 27,
   "id": "85edcdf9",
   "metadata": {},
   "outputs": [],
   "source": [
    "np.save('counts.npy', np.array(counts))"
   ]
  },
  {
   "cell_type": "code",
   "execution_count": 26,
   "id": "e758788b",
   "metadata": {},
   "outputs": [
    {
     "name": "stderr",
     "output_type": "stream",
     "text": [
      "/tmp/ipykernel_2030/3999057193.py:3: UserWarning: Matplotlib is currently using agg, which is a non-GUI backend, so cannot show the figure.\n",
      "  plt.show()\n"
     ]
    }
   ],
   "source": [
    "import matplotlib.pyplot as plt\n",
    "plt.hist(counts)\n",
    "plt.show()"
   ]
  },
  {
   "cell_type": "code",
   "execution_count": null,
   "id": "654ae84f",
   "metadata": {},
   "outputs": [],
   "source": [
    "VIEWS_PATH = DATA_DIR+'views_features/KG_data_hgt.pt'"
   ]
  },
  {
   "cell_type": "code",
   "execution_count": 20,
   "id": "8fa2ddd9",
   "metadata": {},
   "outputs": [],
   "source": [
    "graph = torch.load(VIEWS_PATH)\n",
    "graph_copy = copy.deepcopy(graph)"
   ]
  },
  {
   "cell_type": "code",
   "execution_count": 22,
   "id": "566a51d3",
   "metadata": {},
   "outputs": [],
   "source": [
    "edge_types = []\n",
    "rev_edge_types = []\n",
    "for edge in graph.edge_types:\n",
    "    if 'rev' not in edge[1]:\n",
    "        edge_types.append(edge)\n",
    "        rev_edge_types.append(None)\n",
    "        #rev_edge_types.append( (edge[2], 'rev_' + edge[1] ,edge[0])  )"
   ]
  },
  {
   "cell_type": "code",
   "execution_count": 23,
   "id": "b4586ea7",
   "metadata": {},
   "outputs": [],
   "source": [
    "transform = T.RandomLinkSplit(\n",
    "    num_val=0.1,\n",
    "    num_test=0.1,\n",
    "    is_undirected = False,\n",
    "    disjoint_train_ratio=0.1,\n",
    "    neg_sampling_ratio=2.0,\n",
    "    add_negative_train_samples=False,\n",
    "    edge_types=edge_types,\n",
    "    rev_edge_types=rev_edge_types, \n",
    ")\n",
    "train_data, val_data, test_data = transform(graph)"
   ]
  },
  {
   "cell_type": "code",
   "execution_count": 24,
   "id": "ed9a12cc",
   "metadata": {},
   "outputs": [],
   "source": [
    "def manually_add_rev_labels(data):\n",
    "    for edge in data.edge_types:\n",
    "        if 'rev' in edge[1]:\n",
    "            normal_edge = edge[1].replace(\"rev_\", \"\")\n",
    "            normal = (edge[2], normal_edge, edge[0])\n",
    "            normal_edge_index = data[normal].edge_label_index\n",
    "            data[edge]['edge_label_index'] = torch.roll(normal_edge_index, 1, 0)\n",
    "            data[edge]['edge_label'] = data[normal].edge_label\n",
    "\n",
    "def manually_add_rev_labels_2(data):\n",
    "    for edge in data.edge_types:\n",
    "        if 'rev' in edge[1]:\n",
    "            pos = data[edge]['edge_index']\n",
    "            #neg = torch.stack([torch.arange(data[edge]['edge_index'].max()), \n",
    "                               #torch.randperm(data[edge]['edge_index'].max())], dim=0)\n",
    "            #data[edge]['edge_label_index'] = torch.cat([pos, neg], axis=1)\n",
    "            data[edge]['edge_label_index'] = pos\n",
    "            data[edge]['edge_label'] = torch.ones(pos.shape[1])\n",
    "            #data[edge]['edge_label'] = torch.cat([torch.ones(pos.shape[1]), torch.zeros(neg.shape[1])])\n",
    "            \n",
    "manually_add_rev_labels(train_data)\n",
    "manually_add_rev_labels(val_data)\n",
    "manually_add_rev_labels(test_data)"
   ]
  },
  {
   "cell_type": "code",
   "execution_count": 25,
   "id": "62a6013d",
   "metadata": {},
   "outputs": [],
   "source": [
    "train_edge_label_index = [ (train_data[edge]['edge_label_index'],edge) for edge in train_data.edge_types]\n",
    "val_edge_label_index = [ (val_data[edge]['edge_label_index'],edge) for edge in val_data.edge_types]\n",
    "test_edge_label_index = [ (test_data[edge]['edge_label_index'],edge) for edge in test_data.edge_types]"
   ]
  },
  {
   "cell_type": "code",
   "execution_count": 26,
   "id": "0300d670",
   "metadata": {},
   "outputs": [],
   "source": [
    "def check_data(data):\n",
    "    for edge in data.edge_types:\n",
    "        left = data[edge[0]]['num_nodes']\n",
    "        right = data[edge[2]]['num_nodes']\n",
    "        \n",
    "        edge_index = data[edge]['edge_index']\n",
    "#         print(edge)\n",
    "#         print(edge_index[0,:].max(), left)\n",
    "#         print(edge_index[1,:].max(), right)\n",
    "        if edge_index[0,:].max() > left: print('hi')\n",
    "        if edge_index[1,:].max() > right: print('hi')\n",
    "\n",
    "check_data(train_data)\n",
    "check_data(val_data)\n",
    "check_data(test_data)"
   ]
  },
  {
   "cell_type": "code",
   "execution_count": 27,
   "id": "49e1de2f",
   "metadata": {},
   "outputs": [],
   "source": [
    "class HGTLinkPred(nn.Module):\n",
    "    def __init__(self, in_channels, hidden_channels, out_channels, num_layers, num_heads, \n",
    "                 metadata, num_edge_types, group='sum'):\n",
    "        super(HGTLinkPred, self).__init__()\n",
    "        \n",
    "        self.encoder = models.HGT(in_channels, hidden_channels, out_channels, \n",
    "                                  num_layers, num_heads, metadata, group)\n",
    "        self.decoder = models.BilinearDDIScorer(out_channels, out_channels, 1)\n",
    "        self.decoders = [self.decoder for i in range(num_edge_types)]\n",
    "    \n",
    "    def forward(self, x_dict, edge_index_dict, edge_label_index):\n",
    "        z_dict = self.encoder(x_dict, edge_index_dict)\n",
    "        preds = []\n",
    "        for decoder, (edge_pred_index, edge_name) in zip(self.decoders, edge_label_index):\n",
    "            i, r, j = edge_name\n",
    "            print(edge_name)\n",
    "            node_in, node_out = edge_pred_index\n",
    "            pred = decoder(z_dict[i], z_dict[j]).squeeze(0)\n",
    "            pred = pred[node_in, node_out]\n",
    "            preds.append(pred)\n",
    "        return torch.cat(preds, 0)\n",
    "    \n",
    "    def save_checkpoint(self, PATH):\n",
    "        torch.save(self.encoder.state_dict(), PATH)"
   ]
  },
  {
   "cell_type": "code",
   "execution_count": null,
   "id": "67891bf3",
   "metadata": {},
   "outputs": [],
   "source": [
    "device = torch.device('cuda' if torch.cuda.is_available() else 'cpu')\n",
    "\n",
    "model = HGTLinkPred(in_channels=train_data.x_dict['drug'].shape[1],\n",
    "                    hidden_channels=128,\n",
    "                    out_channels=128,\n",
    "                    num_layers=2,\n",
    "                    num_heads=4,\n",
    "                    num_edge_types=len(train_edge_label_index),\n",
    "                    metadata = train_data.metadata()).to(device)\n",
    "\n",
    "optimizer = torch.optim.Adam(model.parameters(), lr=0.01)\n",
    "\n",
    "loss_fn = nn.MSELoss()\n",
    "\n",
    "def train():\n",
    "    model.train()\n",
    "    optimizer.zero_grad()\n",
    "    preds = model(train_data.x_dict, train_data.edge_index_dict, train_edge_label_index)\n",
    "    targets = torch.stack([i[0] for i in train_edge_label_index], 0)\n",
    "    loss = loss_fn(preds, targets) \n",
    "    loss.backward()\n",
    "    optimizer.step()\n",
    "    return float(loss)"
   ]
  },
  {
   "cell_type": "code",
   "execution_count": null,
   "id": "ed043b2e",
   "metadata": {},
   "outputs": [],
   "source": [
    "for epoch in range(1, 301):\n",
    "    loss = train()"
   ]
  },
  {
   "cell_type": "code",
   "execution_count": null,
   "id": "85de3c66",
   "metadata": {},
   "outputs": [],
   "source": []
  }
 ],
 "metadata": {
  "kernelspec": {
   "display_name": "madrigal",
   "language": "python",
   "name": "madrigal"
  },
  "language_info": {
   "codemirror_mode": {
    "name": "ipython",
    "version": 3
   },
   "file_extension": ".py",
   "mimetype": "text/x-python",
   "name": "python",
   "nbconvert_exporter": "python",
   "pygments_lexer": "ipython3",
   "version": "3.8.13"
  }
 },
 "nbformat": 4,
 "nbformat_minor": 5
}
